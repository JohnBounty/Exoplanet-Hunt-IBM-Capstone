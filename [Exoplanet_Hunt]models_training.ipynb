{
 "cells": [
  {
   "cell_type": "markdown",
   "metadata": {
    "colab_type": "text",
    "id": "mCZMumubw_Bv"
   },
   "source": [
    "# Exoplanet Hunt\n",
    "\n",
    "*In this notebook one will study different approaches to the given problem. Multiple models, as well as different variations of processed data will be tested.*"
   ]
  },
  {
   "cell_type": "markdown",
   "metadata": {
    "colab_type": "text",
    "id": "ZqlfBub9xmA9"
   },
   "source": [
    "## Settings"
   ]
  },
  {
   "cell_type": "code",
   "execution_count": 1,
   "metadata": {
    "colab": {},
    "colab_type": "code",
    "id": "U6T-AV1axScL"
   },
   "outputs": [],
   "source": [
    "import numpy as np\n",
    "import pandas as pd\n",
    "import seaborn as sns\n",
    "import matplotlib.pyplot as plt\n",
    "import pywt\n",
    "import time\n",
    "from scipy import signal\n",
    "\n",
    "import tensorflow as tf\n",
    "from tensorflow.keras.models import Sequential, Model\n",
    "from tensorflow.keras.layers import Dense, Conv1D, Conv2D, Flatten, Dropout\n",
    "from tensorflow.keras.layers import MaxPooling1D, MaxPooling2D, Input\n",
    "from tensorflow.keras.layers import LSTM, Embedding\n",
    "\n",
    "from tensorflow.keras import models\n",
    "from sklearn.metrics import confusion_matrix\n",
    "from sklearn.svm import SVC"
   ]
  },
  {
   "cell_type": "code",
   "execution_count": 2,
   "metadata": {},
   "outputs": [],
   "source": [
    "# @hidden_cell\n",
    "# The project token is an authorization token that is used to access project resources like data sources, connections, and used by platform APIs.\n",
    "from project_lib import Project\n",
    "project = Project(project_id='00d1169e-7a6b-4dd3-a1d5-f964c526647d', project_access_token='p-62e5553d194b5733a0f8412ab66d3e456d2f736e')\n",
    "pc = project.project_context\n"
   ]
  },
  {
   "cell_type": "markdown",
   "metadata": {},
   "source": [
    "## Local or Colab"
   ]
  },
  {
   "cell_type": "code",
   "execution_count": 3,
   "metadata": {
    "colab": {},
    "colab_type": "code",
    "id": "H1dqnqJzwXv-"
   },
   "outputs": [],
   "source": [
    "# from google.colab import drive\n",
    "# drive.mount('/gdrive')"
   ]
  },
  {
   "cell_type": "code",
   "execution_count": 4,
   "metadata": {
    "colab": {
     "base_uri": "https://localhost:8080/",
     "height": 34
    },
    "colab_type": "code",
    "executionInfo": {
     "elapsed": 2598,
     "status": "ok",
     "timestamp": 1590858854669,
     "user": {
      "displayName": "Vadym Hadetskyi",
      "photoUrl": "",
      "userId": "14610911818884835338"
     },
     "user_tz": -120
    },
    "id": "Pj8845dHxq-P",
    "outputId": "13338a43-1a81-4557-eb38-7e23d26d9feb"
   },
   "outputs": [],
   "source": [
    "# %cd \"/gdrive/My Drive/IBM DS Capstone\""
   ]
  },
  {
   "cell_type": "code",
   "execution_count": 5,
   "metadata": {
    "colab": {
     "base_uri": "https://localhost:8080/",
     "height": 238
    },
    "colab_type": "code",
    "executionInfo": {
     "elapsed": 9317,
     "status": "ok",
     "timestamp": 1590858861407,
     "user": {
      "displayName": "Vadym Hadetskyi",
      "photoUrl": "",
      "userId": "14610911818884835338"
     },
     "user_tz": -120
    },
    "id": "nkdEUS1Rxr54",
    "outputId": "041e4831-9f53-4532-ac23-36c7c53c394e"
   },
   "outputs": [],
   "source": [
    "# %ls"
   ]
  },
  {
   "cell_type": "markdown",
   "metadata": {
    "colab_type": "text",
    "id": "eZfDinnpqmWk"
   },
   "source": [
    "# Model definition\n",
    "\n",
    "Each model is defined in a separate function, that takes input_shape as an input. All other parameters, such as number of neurons in the layer are kept constant for the sake of purity of comparison between models.\n",
    "\n",
    "## `Model naming`\n",
    "\n",
    "Every NN model is named as a combination of letters 'm' + one of the following:\n",
    "\n",
    "* `d - dense network, or MLP`\n",
    "* `c - convolutional network`\n",
    "* `l - LSTM based network`\n",
    "\n",
    "Then, a tag for the kind of data that it was trained on is added:\n",
    "\n",
    "* `_clean - clean normalized data`\n",
    "* `_trend - detrended normalized data`\n",
    "* `_freq - normalized half spectrums obtained from detrended data`\n",
    "* `_wave - wavelet transformed 2D data`\n",
    "\n",
    "Thus, a convolutional network trained on frequency spectrum data will be named `mc_freq`, for example.\n",
    "\n",
    "A support vector classifier model is considered as well in each experiment under the name of `svc`.\n"
   ]
  },
  {
   "cell_type": "markdown",
   "metadata": {
    "colab_type": "text",
    "id": "gE0Wzxrjsy4N"
   },
   "source": [
    "## Evaluation\n",
    "\n",
    "To compare models and evaluate their performance one needs to define a set of measures that will serve this purpose. \n",
    "\n",
    "Having in mind the objective of a problem - binary classification - we suggest next indicators could be used as evaluating measurements of the models:\n",
    "\n",
    "1. `Loss - Binary CrossEntropy`\n",
    "2. `Accuracy`\n",
    "3. `Sensitivity & Specificity`\n",
    "4. `Precision & Recall`\n",
    "5. `F1-score`\n"
   ]
  },
  {
   "cell_type": "code",
   "execution_count": 6,
   "metadata": {
    "colab": {},
    "colab_type": "code",
    "id": "rztcblR9fKsl"
   },
   "outputs": [],
   "source": [
    "def evaluate_prediction(y_true, y_pred, certainty=0.5):\n",
    "\n",
    "    y_pred = y_pred.flatten('F')\n",
    "    y_pred = np.array([1 if p >= certainty else 0 for p in y_pred])\n",
    "    # calculating all the measures\n",
    "    TP = len([p for i, p in enumerate(y_true) if y_pred[i] and p])\n",
    "    TN = len([p for i, p in enumerate(y_pred) if not y_true[i] and not p])\n",
    "    FP = len([p for i, p in enumerate(y_pred) if not y_true[i] and p])\n",
    "    FN = len([p for i, p in enumerate(y_true) if not y_pred[i] and p])\n",
    "\n",
    "    # evaluation\n",
    "    Sensitivity = 0\n",
    "    if (TP + FN):\n",
    "        Sensitivity = TP/(TP + FN)\n",
    "\n",
    "    Specificity = 0    \n",
    "    if (TN + FP):\n",
    "        Specificity = TN/(TN + FP)\n",
    "    \n",
    "    Precision = 0\n",
    "    if (TP + FP):\n",
    "        Precision = TP/(TP + FP)\n",
    "        \n",
    "    Recall = 0\n",
    "    if (TN + FN):\n",
    "        Recall = TN/(TN + FN)\n",
    "    \n",
    "    F1 = None\n",
    "    if (Precision + Recall):\n",
    "        F1 = 2*Precision*Recall/(Precision + Recall)\n",
    "\n",
    "    score = pd.DataFrame([[Sensitivity, Specificity, Precision, Recall, F1]], \n",
    "                        columns=['Sensitivity', 'Specificity', 'Precision', 'Recall', 'F1-score'])\n",
    "    \n",
    "    cm = pd.DataFrame(confusion_matrix(y_true, y_pred), \n",
    "                    columns=['Predicted No planets', 'Predicted Planets'],\n",
    "                    index=['True no planets', 'True Planets'])\n",
    "\n",
    "    fig, ax = plt.subplots(figsize=(8, 8))\n",
    "    hm = sns.heatmap(np.round(cm, 3), annot=True, ax=ax, \n",
    "                    cmap='magma', fmt='.3f')\n",
    "    fig.suptitle('Confusion matrix', fontsize=18)\n",
    "    \n",
    "    return score"
   ]
  },
  {
   "cell_type": "markdown",
   "metadata": {
    "colab_type": "text",
    "id": "oqw-Sz7Wserm"
   },
   "source": [
    "## Model definition functions"
   ]
  },
  {
   "cell_type": "code",
   "execution_count": 7,
   "metadata": {
    "colab": {},
    "colab_type": "code",
    "id": "3a95qS0J5U8s"
   },
   "outputs": [],
   "source": [
    "def Dense_Net(input_shape, summary=False):\n",
    "\n",
    "    # input\n",
    "    Input_Layer = Input(shape=input_shape)\n",
    "\n",
    "    # hidden layers\n",
    "    Hidden_Layer1 = Dense(200, activation='relu')(Input_Layer)\n",
    "    Hidden_Layer2_dropout = Dropout(0.4)(Hidden_Layer1)\n",
    "\n",
    "    Hidden_Layer2 = Dense(50, activation='relu')(Hidden_Layer2_dropout)\n",
    "    Hidden_Layer2_dropout = Dropout(0.3)(Hidden_Layer2)\n",
    "\n",
    "    Hidden_Layer3 = Dense(20, activation='relu')(Hidden_Layer2_dropout)\n",
    "    Hidden_Layer3_dropout = Dropout(0.3)(Hidden_Layer3)\n",
    "\n",
    "    Output_Layer = Dense(1, activation='sigmoid')(Hidden_Layer3_dropout)\n",
    "\n",
    "    model = Model(inputs=Input_Layer, outputs=Output_Layer)\n",
    "\n",
    "    # summarize layers\n",
    "    if summary:\n",
    "        print(model.summary())  \n",
    "    \n",
    "    return model"
   ]
  },
  {
   "cell_type": "code",
   "execution_count": 8,
   "metadata": {
    "colab": {},
    "colab_type": "code",
    "id": "Sart2ygBsh6x"
   },
   "outputs": [],
   "source": [
    "def LSTM_Net(input_shape, summary=False):\n",
    "\n",
    "    # input\n",
    "    Input_Layer = Input(shape=input_shape)\n",
    "\n",
    "    # hidden layers\n",
    "    Y = tf.keras.layers.LSTM(100,\n",
    "                        stateful=False,\n",
    "                        recurrent_initializer='glorot_uniform',\n",
    "                        return_sequences=True)(Input_Layer)\n",
    "    Y = tf.keras.layers.LSTM(50,\n",
    "                        stateful=False,\n",
    "                        recurrent_initializer='glorot_uniform')(Y)\n",
    "    \n",
    "    Y = Dense(42, activation='relu')(Y)\n",
    "\n",
    "    Output_Layer = Dense(1, activation='sigmoid')(Y)\n",
    "\n",
    "    model = tf.keras.Model(inputs=Input_Layer,\n",
    "                    outputs = Output_Layer)\n",
    "    \n",
    "    # summarize layers\n",
    "    if summary:\n",
    "        print(model.summary())  \n",
    "\n",
    "    return model"
   ]
  },
  {
   "cell_type": "code",
   "execution_count": 9,
   "metadata": {
    "colab": {},
    "colab_type": "code",
    "id": "5uyFO6aZD5Z4"
   },
   "outputs": [],
   "source": [
    "def CNN2D(input_shape, summary=False):\n",
    "    # input\n",
    "    Input_Layer = Input(shape=input_shape, name='input')  \n",
    "\n",
    "    # model\n",
    "    # layer 1\n",
    "    Y = Conv2D(16, 3, padding='same', activation='relu')(Input_Layer)\n",
    "    Y = MaxPooling2D()(Y)\n",
    "    Y = Dropout(0.25)(Y)\n",
    "\n",
    "    # layer 2\n",
    "    Y = Conv2D(32, 3, padding='same', activation='relu')(Y)\n",
    "    Y = MaxPooling2D()(Y)\n",
    "    Y = Dropout(0.33)(Y)\n",
    "\n",
    "    # layer 3\n",
    "    Y = Conv2D(64, 3, padding='same', activation='relu')(Y)\n",
    "    Y = MaxPooling2D()(Y)\n",
    "    Y = Dropout(0.5)(Y)\n",
    "\n",
    "    # output\n",
    "    Y = Flatten()(Y)\n",
    "    Y = Dense(512, activation='relu')(Y)\n",
    "    Output_Layer = Dense(1, activation='sigmoid')(Y)\n",
    "\n",
    "    model = tf.keras.Model(inputs=Input_Layer,\n",
    "                        outputs = Output_Layer)\n",
    "    \n",
    "    # summarize layers\n",
    "    if summary:\n",
    "        print(model.summary())  \n",
    "\n",
    "    return model"
   ]
  },
  {
   "cell_type": "code",
   "execution_count": 10,
   "metadata": {
    "colab": {},
    "colab_type": "code",
    "id": "mWbUvnBrsoDV"
   },
   "outputs": [],
   "source": [
    "def CNN1D(input_shape, summary=False):\n",
    "    # input\n",
    "    Input_Layer = Input(shape=input_shape, name='input')  \n",
    "\n",
    "    # model\n",
    "    # layer 1\n",
    "    Y = Conv1D(8, 3, padding='same', activation='relu')(Input_Layer)\n",
    "    Y = MaxPooling1D()(Y)\n",
    "    Y = Dropout(0.25)(Y)\n",
    "\n",
    "    # layer 2\n",
    "    Y = Conv1D(16, 3, padding='same', activation='relu')(Y)\n",
    "    Y = MaxPooling1D()(Y)\n",
    "    Y = Dropout(0.33)(Y)\n",
    "\n",
    "    # layer 3\n",
    "    Y = Conv1D(32, 3, padding='same', activation='relu')(Y)\n",
    "    Y = MaxPooling1D()(Y)\n",
    "    Y = Dropout(0.5)(Y)\n",
    "\n",
    "    # output\n",
    "    Y = Flatten()(Y)\n",
    "    Y = Dense(512, activation='relu')(Y)\n",
    "    Output_Layer = Dense(1, activation='sigmoid')(Y)\n",
    "\n",
    "    model = tf.keras.Model(inputs=Input_Layer,\n",
    "                        outputs = Output_Layer)\n",
    "    \n",
    "    # summarize layers\n",
    "    if summary:\n",
    "        print(model.summary())  \n",
    "\n",
    "    return model"
   ]
  },
  {
   "cell_type": "markdown",
   "metadata": {
    "colab_type": "text",
    "id": "ZSubvpv-sFbq"
   },
   "source": [
    "## Trainer\n",
    "\n",
    "*A class, which aim is to train and evaluate Keras-made models.*"
   ]
  },
  {
   "cell_type": "code",
   "execution_count": 11,
   "metadata": {
    "colab": {},
    "colab_type": "code",
    "id": "Mnu3o0kqoPjC"
   },
   "outputs": [],
   "source": [
    "class Trainer():\n",
    "\n",
    "    def __init__(self, model, model_name, train_data_generator, valid_data_generator):\n",
    "\n",
    "        # data\n",
    "        self.train_data = train_data_generator\n",
    "        self.valid_data = valid_data_generator\n",
    "\n",
    "        # model\n",
    "        self.model = model\n",
    "        self.model_name = model_name + '.json'\n",
    "        self.weights_name = model_name + '.h5'\n",
    "        self.classes = 0\n",
    "\n",
    "        # training info\n",
    "        self.history = None\n",
    "        self.Nb_epochs = 10\n",
    "        self.durations = []\n",
    "        self.total_duration = 0\n",
    "        self.loss_history = []\n",
    "        self.val_loss_history = []\n",
    "        self.acc_history= []\n",
    "        self.val_acc_history = []\n",
    "\n",
    "        # early stopping\n",
    "        self.best_epoch = 0\n",
    "        self.patience = 0\n",
    "\n",
    "        # evaluation info\n",
    "        self.score = None\n",
    "\n",
    "    def train(self, Nb_epochs, batch_size,\n",
    "              patience=10, monitor=\"val_loss\", mode='min'):\n",
    "\n",
    "        self.Nb_epochs = Nb_epochs\n",
    "        self.patience = patience\n",
    "        # early stopping initialization\n",
    "        counter = 0\n",
    "        self.best_epoch = 0\n",
    "        if mode == 'min':\n",
    "            best_value = 1e10\n",
    "        if mode == 'max':\n",
    "            best_value = -3      \n",
    "\n",
    "            # training epoch\n",
    "        try:\n",
    "            for i in range(Nb_epochs):\n",
    "                if counter >= patience:\n",
    "                    print(\"The model is not improving any more. Stopping the training process..\")\n",
    "                    print(\"The last model was saved on epoch {:d}, with \".format(self.best_epoch) + \n",
    "                            monitor + \" value of {:.2f}\".format(best_value))\n",
    "                    break\n",
    "                starting_time = time.time()\n",
    "                \n",
    "                # data generation\n",
    "                X_ep, Y_ep = next(self.train_data)\n",
    "                X_val_ep, Y_val_ep = next(self.valid_data)\n",
    "\n",
    "                self.history = self.model.fit(\n",
    "                    X_ep,\n",
    "                    Y_ep,\n",
    "                    batch_size=batch_size,\n",
    "                    initial_epoch=i,\n",
    "                    epochs=i+1,    \n",
    "                    validation_data=(X_val_ep, Y_val_ep))\n",
    "\n",
    "                # saving training epoch history\n",
    "                self.duration=time.time()-starting_time\n",
    "                self.durations.append(self.duration)\n",
    "                self.total_duration+=self.duration\n",
    "\n",
    "                self.loss_history.append(self.history.history[\"loss\"][0])\n",
    "                self.val_loss_history.append(self.history.history[\"val_loss\"][0])\n",
    "                self.acc_history.append(self.history.history[\"acc\"][0])\n",
    "                self.val_acc_history.append(self.history.history[\"val_acc\"][0])\n",
    "\n",
    "\n",
    "                target = self.history.history[monitor][0]\n",
    "                if mode == 'min':\n",
    "                    if target < best_value:\n",
    "                        print(monitor + \" improved from {:.2f} to {:.2f}\".format(best_value, target))\n",
    "                        best_value = target\n",
    "                        self.best_epoch = i+1\n",
    "                        self._save_model()\n",
    "                        print(\"Model is saved on epoch {:d}.\".format(self.best_epoch))\n",
    "                        counter = 0\n",
    "                    else:\n",
    "                        print(monitor + \" did not improve.\")\n",
    "                        counter += 1\n",
    "\n",
    "                if mode == 'max':\n",
    "                    if target > best_value:\n",
    "                        print(monitor + \" improved from {:.2f} to {:.2f}\".format(best_value, target))\n",
    "                        best_value = target\n",
    "                        self.best_epoch = i+1\n",
    "                        self._save_model()\n",
    "                        print(\"Model is saved on epoch {:d}.\".format(self.best_epoch))\n",
    "                        counter = 0\n",
    "                    else:\n",
    "                        print(monitor + \" did not improve.\")\n",
    "                        counter += 1\n",
    "\n",
    "            self.load_model(model_name=self.model_name, weights_name=self.weights_name)\n",
    "\n",
    "        except KeyboardInterrupt:\n",
    "            print(\"\\n Interrupted.\")\n",
    "          \n",
    "     \n",
    "    def plot_training(self):\n",
    "\n",
    "        fig,ax = plt.subplots(2,1 , figsize=(16, 10), sharex=True)\n",
    "\n",
    "        # loss\n",
    "        a=np.arange(min(self.Nb_epochs, self.best_epoch+self.patience))\n",
    "        ax[0].plot(a,self.loss_history,label=\"loss\")\n",
    "        ax[0].plot(a,self.val_loss_history,label=\"val_loss\")\n",
    "        ax[0].legend()\n",
    "        ax[0].set_title(\"Loss per epoch\", color='coral', fontsize=16)\n",
    "        ax[0].tick_params(colors='coral')\n",
    "\n",
    "        if len(a)<30:\n",
    "            ax[0].set_xticks(a)\n",
    "        else:\n",
    "            ax[0].set_xticks(np.arange(0,self.Nb_epochs,50))\n",
    "            ax[0].set_xticklabels(np.arange(0,self.Nb_epochs,50), rotation=75)\n",
    "\n",
    "        ax[0].set_xlabel(\"epoch\")\n",
    "        fig.savefig(\"loss_per_epoch.png\")\n",
    "\n",
    "        # accuracy\n",
    "        ax[1].plot(a,self.acc_history,label=\"acc\")\n",
    "        ax[1].plot(a,self.val_acc_history,label=\"val_acc\")\n",
    "        ax[1].legend()\n",
    "        ax[1].set_title(\"Accuracy per epoch\", color='coral', fontsize=16)\n",
    "        ax[1].tick_params(colors='coral')\n",
    "\n",
    "        if len(a)<30:\n",
    "            ax[1].set_xticks(a)\n",
    "        else:\n",
    "            ax[1].set_xticks(np.arange(0,self.Nb_epochs,50))\n",
    "            ax[1].set_xticklabels(np.arange(0,self.Nb_epochs,50), rotation=75)\n",
    "\n",
    "        ax[1].set_xlabel(\"epoch\")\n",
    "        fig.savefig(\"acc_per_epoch.png\")\n",
    "    \n",
    "        return self.acc_history, self.val_acc_history, self.loss_history, self.val_loss_history\n",
    "  \n",
    "    def evaluate_model(self, test_data, y_true, certainty=0.5):\n",
    "\n",
    "        loss, acc = self.model.evaluate(test_data)\n",
    "        y_pred = self.model.predict(test_data)\n",
    "        y_pred = y_pred.flatten('F')\n",
    "        y_pred = np.array([1 if p >= certainty else 0 for p in y_pred])\n",
    "\n",
    "        # Sensitivity\n",
    "        TP = [p for i, p in enumerate(y_true) if y_pred[i] and p]\n",
    "\n",
    "        if len(y_pred[y_pred == 1]):\n",
    "            pos = len(y_pred[y_pred == 1])\n",
    "            Sensitivity = len(TP)/pos\n",
    "        else:\n",
    "            Sensitivity = 0\n",
    "\n",
    "        # Specificity\n",
    "        TN = [p for i, p in enumerate(y_pred) if y_true[i] == 0 and not p]\n",
    "        \n",
    "        if len(y_pred[y_pred == 0]):\n",
    "            neg = len(y_pred[y_pred == 0])\n",
    "            Specificity = len(TN)/neg\n",
    "        else:\n",
    "            Specificity = 0\n",
    "\n",
    "        score = pd.DataFrame([[loss, acc, Sensitivity, Specificity]], \n",
    "                            columns=['Loss', 'Accuracy', 'Sensitivity', 'Specificity'])\n",
    "        \n",
    "        cm = pd.DataFrame(confusion_matrix(y_true, y_pred, normalize='all'), \n",
    "                        columns=['Predicted No planets', 'Predicted Planets'],\n",
    "                        index=['True no planets', 'True Planets'])\n",
    "\n",
    "        fig, ax = plt.subplots(figsize=(8, 8))\n",
    "        hm = sns.heatmap(np.round(cm, 3), annot=True, ax=ax, \n",
    "                        cmap='magma', fmt='.3f')\n",
    "        fig.suptitle('Confusion matrix', fontsize=18)\n",
    "        \n",
    "        return score\n",
    "\n",
    "    def _save_model(self):\n",
    "      \n",
    "        # serialize model to JSON\n",
    "        model_json = self.model.to_json()\n",
    "        with open(self.model_name, \"w\") as json_file:\n",
    "              json_file.write(model_json)\n",
    "\n",
    "        # serialize weights to HDF5\n",
    "        self.model.save_weights(self.weights_name)\n",
    "\n",
    "    def load_model(self, replace=True, model_name=\"model.json\", \n",
    "                 weights_name=\"model.h5\"):\n",
    "    \n",
    "        # load json and create model\n",
    "        json_file = open(model_name, 'r')\n",
    "        loaded_model_json = json_file.read()\n",
    "        json_file.close()\n",
    "        loaded_model = models.model_from_json(loaded_model_json)\n",
    "\n",
    "        # load weights into new model\n",
    "        loaded_model.load_weights(weights_name)\n",
    "        print(\"Model is loaded from a disk\")\n",
    "        \n",
    "        if replace:\n",
    "            self.model = loaded_model\n",
    "        \n",
    "        return loaded_model"
   ]
  },
  {
   "cell_type": "code",
   "execution_count": 12,
   "metadata": {
    "colab": {},
    "colab_type": "code",
    "id": "I0ehTK24WdVU"
   },
   "outputs": [],
   "source": [
    "def get_label(x_train, y_train, label):\n",
    "\n",
    "    only_true_x = np.array([row for i, row in enumerate(x_train) if y_train[i] == label])\n",
    "    if label:   \n",
    "        only_true_y = np.ones(only_true_x.shape[0], dtype='int32')\n",
    "    else:\n",
    "        only_true_y = np.zeros(only_true_x.shape[0], dtype='int32')\n",
    "\n",
    "    return only_true_x, only_true_y"
   ]
  },
  {
   "cell_type": "code",
   "execution_count": 13,
   "metadata": {
    "colab": {},
    "colab_type": "code",
    "id": "N3Cb9Qmnin72"
   },
   "outputs": [],
   "source": [
    "def train_generator(x_train, y_train, batch_size=100, ratio_of_minor=0.1,\n",
    "                   mlp=False):\n",
    "    \n",
    "\n",
    "    data = np.concatenate([x_train, y_train], axis=1)\n",
    "\n",
    "    ones = data[data[:, -1] == 1]\n",
    "    a_ones = np.arange(len(ones))\n",
    "    zeros = data[data[:, -1] == 0]\n",
    "    a_zeros = np.arange(len(zeros))\n",
    "\n",
    "    # loop of the generator; \n",
    "    while True:    \n",
    "        ones_to_pick = np.random.choice(a_ones, size=int(batch_size*ratio_of_minor))\n",
    "        batch_of_ones = ones[ones_to_pick]\n",
    "        zeros_to_pick = np.random.choice(a_zeros, size=int(batch_size*(1-ratio_of_minor)))\n",
    "        batch_of_zeros = zeros[zeros_to_pick]\n",
    "\n",
    "        batch = np.concatenate([batch_of_ones, batch_of_zeros], axis=0)\n",
    "        \n",
    "        if mlp:\n",
    "            yield batch[:, :-1], batch[:, -1]\n",
    "        else:\n",
    "            yield batch[:, :-1, np.newaxis], batch[:, -1]"
   ]
  },
  {
   "cell_type": "code",
   "execution_count": 14,
   "metadata": {},
   "outputs": [],
   "source": [
    "def load_csv_Watson(filename):\n",
    "    \n",
    "    f = project.get_file(filename)\n",
    "    x = pd.read_csv(f).to_numpy()\n",
    "    return x"
   ]
  },
  {
   "cell_type": "markdown",
   "metadata": {
    "colab_type": "text",
    "id": "CrUfc7A3xtS9"
   },
   "source": [
    "## Modeling on Clean Normalized Data"
   ]
  },
  {
   "cell_type": "code",
   "execution_count": 19,
   "metadata": {
    "colab": {},
    "colab_type": "code",
    "id": "XsbnbF9kx-Uf"
   },
   "outputs": [],
   "source": [
    "# x_train = np.load(\"data/clean_train.npy\")\n",
    "# x_test = np.load(\"data/clean_test.npy\")\n",
    "# y_train = np.load(\"data/label_train.npy\").astype('int32')\n",
    "# y_test = np.load(\"data/label_test.npy\").astype('int32')\n",
    "\n",
    "x_train = load_csv_Watson('clean_train.csv')\n",
    "x_test = load_csv_Watson('clean_test.csv')\n",
    "\n",
    "y_train = load_csv_Watson('labels_train.csv')\n",
    "y_test = load_csv_Watson('labels_test.csv')"
   ]
  },
  {
   "cell_type": "code",
   "execution_count": 64,
   "metadata": {
    "colab": {
     "base_uri": "https://localhost:8080/",
     "height": 34
    },
    "colab_type": "code",
    "executionInfo": {
     "elapsed": 702,
     "status": "ok",
     "timestamp": 1590858874387,
     "user": {
      "displayName": "Vadym Hadetskyi",
      "photoUrl": "",
      "userId": "14610911818884835338"
     },
     "user_tz": -120
    },
    "id": "SIX22OFjki1q",
    "outputId": "8ff49c2c-bee4-4c90-9819-ca14911d4b00"
   },
   "outputs": [
    {
     "data": {
      "text/plain": [
       "((100, 3197, 1), (100,))"
      ]
     },
     "execution_count": 64,
     "metadata": {},
     "output_type": "execute_result"
    }
   ],
   "source": [
    "# custom train generators\n",
    "train_gen = train_generator(x_train, y_train, ratio_of_minor=0.25, batch_size=100)\n",
    "val_gen = train_generator(x_train, y_train, ratio_of_minor=0.25, batch_size=50)\n",
    "train_gen_mlp = train_generator(x_train, y_train, ratio_of_minor=0.25, batch_size=100, mlp=True)\n",
    "val_gen_mlp = train_generator(x_train, y_train, ratio_of_minor=0.25, batch_size=50, mlp=True)\n",
    "a, b = next(train_gen)\n",
    "a.shape, b.shape"
   ]
  },
  {
   "cell_type": "code",
   "execution_count": 21,
   "metadata": {
    "colab": {},
    "colab_type": "code",
    "id": "6TnDWXr12dN_"
   },
   "outputs": [],
   "source": [
    "train_dataset = tf.data.Dataset.from_tensor_slices((x_train, y_train))\n",
    "test_dataset = tf.data.Dataset.from_tensor_slices((x_test, y_test))"
   ]
  },
  {
   "cell_type": "code",
   "execution_count": 22,
   "metadata": {
    "colab": {},
    "colab_type": "code",
    "id": "UUDmxVDY252u"
   },
   "outputs": [],
   "source": [
    "BATCH_SIZE = 64\n",
    "SHUFFLE_BUFFER_SIZE = 5\n",
    "\n",
    "train_dataset = train_dataset.shuffle(SHUFFLE_BUFFER_SIZE).batch(BATCH_SIZE)\n",
    "test_dataset = test_dataset.batch(BATCH_SIZE)"
   ]
  },
  {
   "cell_type": "code",
   "execution_count": 70,
   "metadata": {
    "colab": {},
    "colab_type": "code",
    "id": "4d7M0Iis5YbK"
   },
   "outputs": [],
   "source": [
    "md_clean = Dense_Net((x_train.shape[1],))"
   ]
  },
  {
   "cell_type": "code",
   "execution_count": 66,
   "metadata": {
    "colab": {},
    "colab_type": "code",
    "id": "VyvU6yoHx7wI"
   },
   "outputs": [],
   "source": [
    "ml_clean = LSTM_Net((x_train.shape[1], 1))"
   ]
  },
  {
   "cell_type": "code",
   "execution_count": 67,
   "metadata": {
    "colab": {},
    "colab_type": "code",
    "id": "9pYNyKCZzv4y"
   },
   "outputs": [],
   "source": [
    "mc_clean = CNN1D((x_train.shape[1], 1))"
   ]
  },
  {
   "cell_type": "code",
   "execution_count": 71,
   "metadata": {
    "colab": {
     "base_uri": "https://localhost:8080/",
     "height": 1000
    },
    "colab_type": "code",
    "executionInfo": {
     "elapsed": 4460,
     "status": "ok",
     "timestamp": 1590858885139,
     "user": {
      "displayName": "Vadym Hadetskyi",
      "photoUrl": "",
      "userId": "14610911818884835338"
     },
     "user_tz": -120
    },
    "id": "AHPQZH3T1Zhk",
    "outputId": "028dbd4d-95db-4d6a-bbfa-d60898eddd84"
   },
   "outputs": [
    {
     "name": "stdout",
     "output_type": "stream",
     "text": [
      "Train on 100 samples, validate on 49 samples\n",
      "100/100 [==============================] - 4s 35ms/sample - loss: 0.7210 - acc: 0.3200 - val_loss: 0.6934 - val_acc: 0.6122\n",
      "val_loss improved from 10000000000.00 to 0.69\n",
      "Model is saved on epoch 1.\n",
      "Train on 100 samples, validate on 49 samples\n",
      "Epoch 2/2\n",
      "100/100 [==============================] - 0s 447us/sample - loss: 0.6937 - acc: 0.5100 - val_loss: 0.6890 - val_acc: 0.6735\n",
      "val_loss improved from 0.69 to 0.69\n",
      "Model is saved on epoch 2.\n",
      "Train on 100 samples, validate on 49 samples\n",
      "Epoch 3/3\n",
      "100/100 [==============================] - 0s 346us/sample - loss: 0.6839 - acc: 0.6500 - val_loss: 0.6723 - val_acc: 0.7551\n",
      "val_loss improved from 0.69 to 0.67\n",
      "Model is saved on epoch 3.\n",
      "Train on 100 samples, validate on 49 samples\n",
      "Epoch 4/4\n",
      "100/100 [==============================] - 0s 347us/sample - loss: 0.6787 - acc: 0.6700 - val_loss: 0.6694 - val_acc: 0.7551\n",
      "val_loss improved from 0.67 to 0.67\n",
      "Model is saved on epoch 4.\n",
      "Train on 100 samples, validate on 49 samples\n",
      "Epoch 5/5\n",
      "100/100 [==============================] - 0s 362us/sample - loss: 0.6690 - acc: 0.6900 - val_loss: 0.6616 - val_acc: 0.7551\n",
      "val_loss improved from 0.67 to 0.66\n",
      "Model is saved on epoch 5.\n",
      "Train on 100 samples, validate on 49 samples\n",
      "Epoch 6/6\n",
      "100/100 [==============================] - 0s 284us/sample - loss: 0.6594 - acc: 0.7500 - val_loss: 0.6477 - val_acc: 0.7551\n",
      "val_loss improved from 0.66 to 0.65\n",
      "Model is saved on epoch 6.\n",
      "Train on 100 samples, validate on 49 samples\n",
      "Epoch 7/7\n",
      "100/100 [==============================] - 0s 366us/sample - loss: 0.6484 - acc: 0.7400 - val_loss: 0.6283 - val_acc: 0.7347\n",
      "val_loss improved from 0.65 to 0.63\n",
      "Model is saved on epoch 7.\n",
      "Train on 100 samples, validate on 49 samples\n",
      "Epoch 8/8\n",
      "100/100 [==============================] - 0s 314us/sample - loss: 0.6480 - acc: 0.7300 - val_loss: 0.6375 - val_acc: 0.7551\n",
      "val_loss did not improve.\n",
      "Train on 100 samples, validate on 49 samples\n",
      "Epoch 9/9\n",
      "100/100 [==============================] - 0s 361us/sample - loss: 0.6342 - acc: 0.7500 - val_loss: 0.6373 - val_acc: 0.7551\n",
      "val_loss did not improve.\n",
      "Train on 100 samples, validate on 49 samples\n",
      "Epoch 10/10\n",
      "100/100 [==============================] - 0s 403us/sample - loss: 0.6082 - acc: 0.7600 - val_loss: 0.6061 - val_acc: 0.7755\n",
      "val_loss improved from 0.63 to 0.61\n",
      "Model is saved on epoch 10.\n",
      "Train on 100 samples, validate on 49 samples\n",
      "Epoch 11/11\n",
      "100/100 [==============================] - 0s 523us/sample - loss: 0.6018 - acc: 0.7300 - val_loss: 0.5988 - val_acc: 0.7755\n",
      "val_loss improved from 0.61 to 0.60\n",
      "Model is saved on epoch 11.\n",
      "Train on 100 samples, validate on 49 samples\n",
      "Epoch 12/12\n",
      "100/100 [==============================] - 0s 412us/sample - loss: 0.6230 - acc: 0.7600 - val_loss: 0.5686 - val_acc: 0.7551\n",
      "val_loss improved from 0.60 to 0.57\n",
      "Model is saved on epoch 12.\n",
      "Train on 100 samples, validate on 49 samples\n",
      "Epoch 13/13\n",
      "100/100 [==============================] - 0s 379us/sample - loss: 0.5810 - acc: 0.7400 - val_loss: 0.5745 - val_acc: 0.7755\n",
      "val_loss did not improve.\n",
      "Train on 100 samples, validate on 49 samples\n",
      "Epoch 14/14\n",
      "100/100 [==============================] - 0s 353us/sample - loss: 0.5929 - acc: 0.7500 - val_loss: 0.5968 - val_acc: 0.7551\n",
      "val_loss did not improve.\n",
      "Train on 100 samples, validate on 49 samples\n",
      "Epoch 15/15\n",
      "100/100 [==============================] - 0s 477us/sample - loss: 0.5702 - acc: 0.7500 - val_loss: 0.5593 - val_acc: 0.7551\n",
      "val_loss improved from 0.57 to 0.56\n",
      "Model is saved on epoch 15.\n",
      "Train on 100 samples, validate on 49 samples\n",
      "Epoch 16/16\n",
      "100/100 [==============================] - 0s 401us/sample - loss: 0.5866 - acc: 0.7600 - val_loss: 0.5107 - val_acc: 0.7551\n",
      "val_loss improved from 0.56 to 0.51\n",
      "Model is saved on epoch 16.\n",
      "Train on 100 samples, validate on 49 samples\n",
      "Epoch 17/17\n",
      "100/100 [==============================] - 0s 523us/sample - loss: 0.5686 - acc: 0.7500 - val_loss: 0.5167 - val_acc: 0.7551\n",
      "val_loss did not improve.\n",
      "Train on 100 samples, validate on 49 samples\n",
      "Epoch 18/18\n",
      "100/100 [==============================] - 0s 473us/sample - loss: 0.5518 - acc: 0.7500 - val_loss: 0.5100 - val_acc: 0.7551\n",
      "val_loss improved from 0.51 to 0.51\n",
      "Model is saved on epoch 18.\n",
      "Train on 100 samples, validate on 49 samples\n",
      "Epoch 19/19\n",
      "100/100 [==============================] - 0s 365us/sample - loss: 0.5409 - acc: 0.7500 - val_loss: 0.5337 - val_acc: 0.7551\n",
      "val_loss did not improve.\n",
      "Train on 100 samples, validate on 49 samples\n",
      "Epoch 20/20\n",
      "100/100 [==============================] - 0s 336us/sample - loss: 0.5232 - acc: 0.7600 - val_loss: 0.4873 - val_acc: 0.7551\n",
      "val_loss improved from 0.51 to 0.49\n",
      "Model is saved on epoch 20.\n",
      "Train on 100 samples, validate on 49 samples\n",
      "Epoch 21/21\n",
      "100/100 [==============================] - 0s 443us/sample - loss: 0.4923 - acc: 0.7400 - val_loss: 0.5050 - val_acc: 0.7551\n",
      "val_loss did not improve.\n",
      "Train on 100 samples, validate on 49 samples\n",
      "Epoch 22/22\n",
      "100/100 [==============================] - 0s 326us/sample - loss: 0.5209 - acc: 0.7500 - val_loss: 0.4653 - val_acc: 0.7551\n",
      "val_loss improved from 0.49 to 0.47\n",
      "Model is saved on epoch 22.\n",
      "Train on 100 samples, validate on 49 samples\n",
      "Epoch 23/23\n",
      "100/100 [==============================] - 0s 406us/sample - loss: 0.5204 - acc: 0.7500 - val_loss: 0.4438 - val_acc: 0.7551\n",
      "val_loss improved from 0.47 to 0.44\n",
      "Model is saved on epoch 23.\n",
      "Train on 100 samples, validate on 49 samples\n",
      "Epoch 24/24\n",
      "100/100 [==============================] - 0s 335us/sample - loss: 0.4984 - acc: 0.7500 - val_loss: 0.4731 - val_acc: 0.7551\n",
      "val_loss did not improve.\n",
      "Train on 100 samples, validate on 49 samples\n",
      "Epoch 25/25\n",
      "100/100 [==============================] - 0s 840us/sample - loss: 0.4843 - acc: 0.7500 - val_loss: 0.4645 - val_acc: 0.7551\n",
      "val_loss did not improve.\n",
      "Model is loaded from a disk\n"
     ]
    }
   ],
   "source": [
    "md_clean.compile(optimizer=tf.keras.optimizers.Adam(lr=0.001),\n",
    "          loss=tf.keras.losses.BinaryCrossentropy(), metrics=['accuracy'])\n",
    "md_clean_trainer = Trainer(md_clean, 'md_clean', train_gen_mlp, val_gen_mlp)\n",
    "md_clean_trainer.train(25, 100)"
   ]
  },
  {
   "cell_type": "code",
   "execution_count": 72,
   "metadata": {
    "colab": {
     "base_uri": "https://localhost:8080/",
     "height": 623
    },
    "colab_type": "code",
    "executionInfo": {
     "elapsed": 5064,
     "status": "ok",
     "timestamp": 1590858886566,
     "user": {
      "displayName": "Vadym Hadetskyi",
      "photoUrl": "",
      "userId": "14610911818884835338"
     },
     "user_tz": -120
    },
    "id": "lO-ruq-Nvm1F",
    "outputId": "9ed58a3b-7556-45bf-e4f4-9abf7893a90d",
    "scrolled": true
   },
   "outputs": [
    {
     "data": {
      "image/png": "[encoded data removed]",
      "text/plain": [
       "<Figure size 1152x720 with 2 Axes>"
      ]
     },
     "metadata": {
      "needs_background": "dark"
     },
     "output_type": "display_data"
    }
   ],
   "source": [
    "md_clean_trainer.plot_training();"
   ]
  },
  {
   "cell_type": "code",
   "execution_count": 56,
   "metadata": {
    "colab": {},
    "colab_type": "code",
    "id": "Xgz4VR4W792i"
   },
   "outputs": [],
   "source": [
    "ml_clean.compile(optimizer=tf.keras.optimizers.Adam(lr=0.001),\n",
    "          loss=tf.keras.losses.BinaryCrossentropy(), metrics=['accuracy'])\n",
    "ml_clean_trainer = Trainer(ml_clean, 'ml_clean', train_gen, val_gen)"
   ]
  },
  {
   "cell_type": "code",
   "execution_count": 57,
   "metadata": {
    "colab": {
     "base_uri": "https://localhost:8080/",
     "height": 204
    },
    "colab_type": "code",
    "executionInfo": {
     "elapsed": 759922,
     "status": "ok",
     "timestamp": 1590859725116,
     "user": {
      "displayName": "Vadym Hadetskyi",
      "photoUrl": "",
      "userId": "14610911818884835338"
     },
     "user_tz": -120
    },
    "id": "nWhyqN0dB24u",
    "outputId": "27141e79-9abd-4fe2-f595-6cf016c157ab"
   },
   "outputs": [
    {
     "name": "stdout",
     "output_type": "stream",
     "text": [
      "Train on 100 samples, validate on 49 samples\n",
      "  1/100 [..............................] - ETA: 1:28:43 - loss: 0.6931 - acc: 1.0000\n",
      " Interrupted.\n"
     ]
    }
   ],
   "source": [
    "ml_clean_trainer.train(2, 1)"
   ]
  },
  {
   "cell_type": "code",
   "execution_count": 73,
   "metadata": {
    "colab": {
     "base_uri": "https://localhost:8080/",
     "height": 1000
    },
    "colab_type": "code",
    "executionInfo": {
     "elapsed": 720140,
     "status": "aborted",
     "timestamp": 1590859738177,
     "user": {
      "displayName": "Vadym Hadetskyi",
      "photoUrl": "",
      "userId": "14610911818884835338"
     },
     "user_tz": -120
    },
    "id": "gODuZFaTFqIH",
    "outputId": "a2f06528-b5ce-49f2-c208-0090e2bd2fbd"
   },
   "outputs": [
    {
     "name": "stdout",
     "output_type": "stream",
     "text": [
      "Train on 100 samples, validate on 49 samples\n",
      "100/100 [==============================] - 5s 46ms/sample - loss: 0.6881 - acc: 0.6200 - val_loss: 0.4738 - val_acc: 0.7551\n",
      "val_loss improved from 10000000000.00 to 0.47\n",
      "Model is saved on epoch 1.\n",
      "Train on 100 samples, validate on 49 samples\n",
      "Epoch 2/2\n",
      "100/100 [==============================] - 1s 9ms/sample - loss: 0.5182 - acc: 0.7500 - val_loss: 0.4746 - val_acc: 0.7551\n",
      "val_loss did not improve.\n",
      "Train on 100 samples, validate on 49 samples\n",
      "Epoch 3/3\n",
      "100/100 [==============================] - 1s 9ms/sample - loss: 0.5762 - acc: 0.7500 - val_loss: 0.5437 - val_acc: 0.7551\n",
      "val_loss did not improve.\n",
      "Train on 100 samples, validate on 49 samples\n",
      "Epoch 4/4\n",
      "100/100 [==============================] - 1s 9ms/sample - loss: 0.5128 - acc: 0.7500 - val_loss: 0.5476 - val_acc: 0.7551\n",
      "val_loss did not improve.\n",
      "Train on 100 samples, validate on 49 samples\n",
      "Epoch 5/5\n",
      "100/100 [==============================] - 1s 8ms/sample - loss: 0.4628 - acc: 0.7500 - val_loss: 0.4657 - val_acc: 0.7551\n",
      "val_loss improved from 0.47 to 0.47\n",
      "Model is saved on epoch 5.\n",
      "Train on 100 samples, validate on 49 samples\n",
      "Epoch 6/6\n",
      "100/100 [==============================] - 4s 40ms/sample - loss: 0.5093 - acc: 0.7500 - val_loss: 0.4714 - val_acc: 0.7551\n",
      "val_loss did not improve.\n",
      "Train on 100 samples, validate on 49 samples\n",
      "Epoch 7/7\n",
      "100/100 [==============================] - 3s 28ms/sample - loss: 0.5181 - acc: 0.7500 - val_loss: 0.5504 - val_acc: 0.7551\n",
      "val_loss did not improve.\n",
      "Train on 100 samples, validate on 49 samples\n",
      "Epoch 8/8\n",
      "100/100 [==============================] - 3s 28ms/sample - loss: 0.4842 - acc: 0.7500 - val_loss: 0.5580 - val_acc: 0.7551\n",
      "val_loss did not improve.\n",
      "Train on 100 samples, validate on 49 samples\n",
      "Epoch 9/9\n",
      "100/100 [==============================] - 1s 8ms/sample - loss: 0.5060 - acc: 0.7500 - val_loss: 0.5601 - val_acc: 0.7551\n",
      "val_loss did not improve.\n",
      "Train on 100 samples, validate on 49 samples\n",
      "Epoch 10/10\n",
      "100/100 [==============================] - 1s 8ms/sample - loss: 0.4395 - acc: 0.7500 - val_loss: 0.5375 - val_acc: 0.7551\n",
      "val_loss did not improve.\n",
      "Train on 100 samples, validate on 49 samples\n",
      "Epoch 11/11\n",
      "100/100 [==============================] - 1s 9ms/sample - loss: 0.4721 - acc: 0.7500 - val_loss: 0.5047 - val_acc: 0.7551\n",
      "val_loss did not improve.\n",
      "Train on 100 samples, validate on 49 samples\n",
      "Epoch 12/12\n",
      "100/100 [==============================] - 1s 8ms/sample - loss: 0.4611 - acc: 0.7500 - val_loss: 0.4618 - val_acc: 0.7551\n",
      "val_loss improved from 0.47 to 0.46\n",
      "Model is saved on epoch 12.\n",
      "Train on 100 samples, validate on 49 samples\n",
      "Epoch 13/13\n",
      "100/100 [==============================] - 1s 10ms/sample - loss: 0.4413 - acc: 0.7500 - val_loss: 0.4391 - val_acc: 0.7551\n",
      "val_loss improved from 0.46 to 0.44\n",
      "Model is saved on epoch 13.\n",
      "Train on 100 samples, validate on 49 samples\n",
      "Epoch 14/14\n",
      "100/100 [==============================] - 1s 8ms/sample - loss: 0.4648 - acc: 0.7500 - val_loss: 0.4440 - val_acc: 0.7551\n",
      "val_loss did not improve.\n",
      "Train on 100 samples, validate on 49 samples\n",
      "Epoch 15/15\n",
      "100/100 [==============================] - 1s 8ms/sample - loss: 0.4291 - acc: 0.7500 - val_loss: 0.4168 - val_acc: 0.7551\n",
      "val_loss improved from 0.44 to 0.42\n",
      "Model is saved on epoch 15.\n",
      "Train on 100 samples, validate on 49 samples\n",
      "Epoch 16/16\n",
      "100/100 [==============================] - 4s 40ms/sample - loss: 0.4361 - acc: 0.7500 - val_loss: 0.4711 - val_acc: 0.7551\n",
      "val_loss did not improve.\n",
      "Train on 100 samples, validate on 49 samples\n",
      "Epoch 17/17\n",
      "100/100 [==============================] - 3s 31ms/sample - loss: 0.4531 - acc: 0.7500 - val_loss: 0.4561 - val_acc: 0.7551\n",
      "val_loss did not improve.\n",
      "Train on 100 samples, validate on 49 samples\n",
      "Epoch 18/18\n",
      "100/100 [==============================] - 1s 9ms/sample - loss: 0.4716 - acc: 0.7500 - val_loss: 0.4849 - val_acc: 0.7551\n",
      "val_loss did not improve.\n",
      "Train on 100 samples, validate on 49 samples\n",
      "Epoch 19/19\n",
      "100/100 [==============================] - 1s 8ms/sample - loss: 0.4614 - acc: 0.7500 - val_loss: 0.4376 - val_acc: 0.7551\n",
      "val_loss did not improve.\n",
      "Train on 100 samples, validate on 49 samples\n",
      "Epoch 20/20\n",
      "100/100 [==============================] - 1s 10ms/sample - loss: 0.4603 - acc: 0.7500 - val_loss: 0.4784 - val_acc: 0.7551\n",
      "val_loss did not improve.\n",
      "Train on 100 samples, validate on 49 samples\n",
      "Epoch 21/21\n",
      "100/100 [==============================] - 1s 8ms/sample - loss: 0.4658 - acc: 0.7500 - val_loss: 0.4345 - val_acc: 0.7551\n",
      "val_loss did not improve.\n",
      "Train on 100 samples, validate on 49 samples\n",
      "Epoch 22/22\n",
      "100/100 [==============================] - 1s 8ms/sample - loss: 0.4191 - acc: 0.7500 - val_loss: 0.4829 - val_acc: 0.7551\n",
      "val_loss did not improve.\n",
      "Train on 100 samples, validate on 49 samples\n",
      "Epoch 23/23\n",
      "100/100 [==============================] - 1s 8ms/sample - loss: 0.4554 - acc: 0.7500 - val_loss: 0.4281 - val_acc: 0.7551\n",
      "val_loss did not improve.\n",
      "Train on 100 samples, validate on 49 samples\n",
      "Epoch 24/24\n",
      "100/100 [==============================] - 1s 9ms/sample - loss: 0.4415 - acc: 0.7500 - val_loss: 0.4594 - val_acc: 0.7551\n",
      "val_loss did not improve.\n",
      "Train on 100 samples, validate on 49 samples\n",
      "Epoch 25/25\n",
      "100/100 [==============================] - 1s 8ms/sample - loss: 0.4270 - acc: 0.7500 - val_loss: 0.4931 - val_acc: 0.7551\n",
      "val_loss did not improve.\n",
      "Model is loaded from a disk\n"
     ]
    }
   ],
   "source": [
    "mc_clean.compile(optimizer=tf.keras.optimizers.Adam(lr=0.001),\n",
    "          loss=tf.keras.losses.BinaryCrossentropy(), metrics=['accuracy'])\n",
    "mc_clean_trainer = Trainer(mc_clean, 'mc_clean', train_gen, val_gen)\n",
    "mc_clean_trainer.train(25, 100)"
   ]
  },
  {
   "cell_type": "code",
   "execution_count": 84,
   "metadata": {
    "colab": {
     "base_uri": "https://localhost:8080/",
     "height": 317
    },
    "colab_type": "code",
    "executionInfo": {
     "elapsed": 719585,
     "status": "error",
     "timestamp": 1590859738793,
     "user": {
      "displayName": "Vadym Hadetskyi",
      "photoUrl": "",
      "userId": "14610911818884835338"
     },
     "user_tz": -120
    },
    "id": "LKBZXavn8Yx2",
    "outputId": "57cc186d-f955-400e-fbb1-b64ec9aab5de"
   },
   "outputs": [
    {
     "data": {
      "text/html": [
       "<div>\n",
       "<style scoped>\n",
       "    .dataframe tbody tr th:only-of-type {\n",
       "        vertical-align: middle;\n",
       "    }\n",
       "\n",
       "    .dataframe tbody tr th {\n",
       "        vertical-align: top;\n",
       "    }\n",
       "\n",
       "    .dataframe thead th {\n",
       "        text-align: right;\n",
       "    }\n",
       "</style>\n",
       "<table border=\"1\" class=\"dataframe\">\n",
       "  <thead>\n",
       "    <tr style=\"text-align: right;\">\n",
       "      <th></th>\n",
       "      <th>Sensitivity</th>\n",
       "      <th>Specificity</th>\n",
       "      <th>Precision</th>\n",
       "      <th>Recall</th>\n",
       "      <th>F1-score</th>\n",
       "    </tr>\n",
       "  </thead>\n",
       "  <tbody>\n",
       "    <tr>\n",
       "      <th>0</th>\n",
       "      <td>0.0</td>\n",
       "      <td>1.0</td>\n",
       "      <td>0</td>\n",
       "      <td>0.991228</td>\n",
       "      <td>0.0</td>\n",
       "    </tr>\n",
       "  </tbody>\n",
       "</table>\n",
       "</div>"
      ],
      "text/plain": [
       "   Sensitivity  Specificity  Precision    Recall  F1-score\n",
       "0          0.0          1.0          0  0.991228       0.0"
      ]
     },
     "execution_count": 84,
     "metadata": {},
     "output_type": "execute_result"
    },
    {
     "data": {
      "image/png": "[encoded data removed]",
      "text/plain": [
       "<Figure size 576x576 with 2 Axes>"
      ]
     },
     "metadata": {
      "needs_background": "light"
     },
     "output_type": "display_data"
    }
   ],
   "source": [
    "md_clean_trainer.model.compile(optimizer=tf.keras.optimizers.Adam(lr=0.001),\n",
    "          loss=tf.keras.losses.BinaryCrossentropy(), metrics=['accuracy'])\n",
    "md_clean = md_clean_trainer.model\n",
    "y_pred = md_clean.predict(x_test)\n",
    "evaluate_prediction(y_test, y_pred)"
   ]
  },
  {
   "cell_type": "code",
   "execution_count": 0,
   "metadata": {
    "colab": {},
    "colab_type": "code",
    "id": "z-1BOQxavLbP"
   },
   "outputs": [],
   "source": [
    "ml_clean_trainer.model.compile(optimizer=tf.keras.optimizers.Adam(lr=0.0001),\n",
    "          loss=tf.keras.losses.BinaryCrossentropy(), metrics=['accuracy'])\n",
    "ml_clean = ml_clean_trainer.model\n",
    "y_pred = ml_clean.predict(x_test)\n",
    "evaluate_prediction(y_test, y_pred)"
   ]
  },
  {
   "cell_type": "code",
   "execution_count": 86,
   "metadata": {
    "colab": {},
    "colab_type": "code",
    "id": "zUfJ8AWqvPPo"
   },
   "outputs": [
    {
     "data": {
      "text/html": [
       "<div>\n",
       "<style scoped>\n",
       "    .dataframe tbody tr th:only-of-type {\n",
       "        vertical-align: middle;\n",
       "    }\n",
       "\n",
       "    .dataframe tbody tr th {\n",
       "        vertical-align: top;\n",
       "    }\n",
       "\n",
       "    .dataframe thead th {\n",
       "        text-align: right;\n",
       "    }\n",
       "</style>\n",
       "<table border=\"1\" class=\"dataframe\">\n",
       "  <thead>\n",
       "    <tr style=\"text-align: right;\">\n",
       "      <th></th>\n",
       "      <th>Sensitivity</th>\n",
       "      <th>Specificity</th>\n",
       "      <th>Precision</th>\n",
       "      <th>Recall</th>\n",
       "      <th>F1-score</th>\n",
       "    </tr>\n",
       "  </thead>\n",
       "  <tbody>\n",
       "    <tr>\n",
       "      <th>0</th>\n",
       "      <td>0.0</td>\n",
       "      <td>1.0</td>\n",
       "      <td>0</td>\n",
       "      <td>0.991228</td>\n",
       "      <td>0.0</td>\n",
       "    </tr>\n",
       "  </tbody>\n",
       "</table>\n",
       "</div>"
      ],
      "text/plain": [
       "   Sensitivity  Specificity  Precision    Recall  F1-score\n",
       "0          0.0          1.0          0  0.991228       0.0"
      ]
     },
     "execution_count": 86,
     "metadata": {},
     "output_type": "execute_result"
    },
    {
     "data": {
      "image/png": "[encoded data removed]",
      "text/plain": [
       "<Figure size 576x576 with 2 Axes>"
      ]
     },
     "metadata": {
      "needs_background": "light"
     },
     "output_type": "display_data"
    }
   ],
   "source": [
    "mc_clean_trainer.model.compile(optimizer=tf.keras.optimizers.Adam(lr=0.0001),\n",
    "          loss=tf.keras.losses.BinaryCrossentropy(), metrics=['accuracy'])\n",
    "mc_clean = mc_clean_trainer.model\n",
    "y_pred = mc_clean.predict(x_test[:, :, np.newaxis])\n",
    "evaluate_prediction(y_test, y_pred)"
   ]
  },
  {
   "cell_type": "code",
   "execution_count": 87,
   "metadata": {
    "colab": {},
    "colab_type": "code",
    "id": "_yhhi7tHkPtt"
   },
   "outputs": [
    {
     "name": "stderr",
     "output_type": "stream",
     "text": [
      "/opt/conda/envs/Python36/lib/python3.6/site-packages/sklearn/utils/validation.py:761: DataConversionWarning: A column-vector y was passed when a 1d array was expected. Please change the shape of y to (n_samples, ), for example using ravel().\n",
      "  y = column_or_1d(y, warn=True)\n"
     ]
    },
    {
     "data": {
      "text/html": [
       "<div>\n",
       "<style scoped>\n",
       "    .dataframe tbody tr th:only-of-type {\n",
       "        vertical-align: middle;\n",
       "    }\n",
       "\n",
       "    .dataframe tbody tr th {\n",
       "        vertical-align: top;\n",
       "    }\n",
       "\n",
       "    .dataframe thead th {\n",
       "        text-align: right;\n",
       "    }\n",
       "</style>\n",
       "<table border=\"1\" class=\"dataframe\">\n",
       "  <thead>\n",
       "    <tr style=\"text-align: right;\">\n",
       "      <th></th>\n",
       "      <th>Sensitivity</th>\n",
       "      <th>Specificity</th>\n",
       "      <th>Precision</th>\n",
       "      <th>Recall</th>\n",
       "      <th>F1-score</th>\n",
       "    </tr>\n",
       "  </thead>\n",
       "  <tbody>\n",
       "    <tr>\n",
       "      <th>0</th>\n",
       "      <td>0.0</td>\n",
       "      <td>1.0</td>\n",
       "      <td>0</td>\n",
       "      <td>0.991228</td>\n",
       "      <td>0.0</td>\n",
       "    </tr>\n",
       "  </tbody>\n",
       "</table>\n",
       "</div>"
      ],
      "text/plain": [
       "   Sensitivity  Specificity  Precision    Recall  F1-score\n",
       "0          0.0          1.0          0  0.991228       0.0"
      ]
     },
     "execution_count": 87,
     "metadata": {},
     "output_type": "execute_result"
    },
    {
     "data": {
      "image/png": "[encoded data removed]",
      "text/plain": [
       "<Figure size 576x576 with 2 Axes>"
      ]
     },
     "metadata": {
      "needs_background": "light"
     },
     "output_type": "display_data"
    }
   ],
   "source": [
    "svc = SVC(gamma='auto')\n",
    "svc.fit(x_train, y_train)\n",
    "y_pred = svc.predict(x_test)\n",
    "evaluate_prediction(y_test, y_pred)"
   ]
  },
  {
   "cell_type": "markdown",
   "metadata": {
    "colab_type": "text",
    "id": "_InqacmdXtaI"
   },
   "source": [
    "## Modeling on Detrended data"
   ]
  },
  {
   "cell_type": "code",
   "execution_count": 88,
   "metadata": {
    "colab": {},
    "colab_type": "code",
    "id": "qGTa_p30Xx0j"
   },
   "outputs": [],
   "source": [
    "# x_train = np.load(\"data/x_train_detrend.npy\")\n",
    "# x_test = np.load(\"data/x_test_detrend.npy\")\n",
    "\n",
    "# y_train = np.load(\"data/label_train.npy\")\n",
    "# y_test = np.load(\"data/label_test.npy\")\n",
    "\n",
    "x_train = load_csv_Watson('x_train_detrend.csv')\n",
    "x_test = load_csv_Watson('x_test_detrend.csv')\n",
    "\n",
    "y_train = load_csv_Watson('labels_train.csv')\n",
    "y_test = load_csv_Watson('labels_test.csv')"
   ]
  },
  {
   "cell_type": "code",
   "execution_count": 0,
   "metadata": {
    "colab": {},
    "colab_type": "code",
    "id": "g9XS-QWJX1_B"
   },
   "outputs": [],
   "source": [
    "train_dataset = tf.data.Dataset.from_tensor_slices((x_train, y_train))\n",
    "test_dataset = tf.data.Dataset.from_tensor_slices((x_test, y_test))\n",
    "\n",
    "BATCH_SIZE = 64\n",
    "SHUFFLE_BUFFER_SIZE = 100\n",
    "\n",
    "train_dataset = train_dataset.shuffle(SHUFFLE_BUFFER_SIZE).batch(BATCH_SIZE)\n",
    "test_dataset = test_dataset.batch(BATCH_SIZE)"
   ]
  },
  {
   "cell_type": "code",
   "execution_count": 89,
   "metadata": {
    "colab": {},
    "colab_type": "code",
    "id": "UD5iGMQIX56T"
   },
   "outputs": [
    {
     "data": {
      "text/plain": [
       "((100, 3197, 1), (100,))"
      ]
     },
     "execution_count": 89,
     "metadata": {},
     "output_type": "execute_result"
    }
   ],
   "source": [
    "# custom train generators\n",
    "train_gen = train_generator(x_train, y_train, ratio_of_minor=0.2, batch_size=100)\n",
    "val_gen = train_generator(x_train, y_train, ratio_of_minor=0.2, batch_size=50)\n",
    "train_gen_mlp = train_generator(x_train, y_train, ratio_of_minor=0.25, batch_size=100, mlp=True)\n",
    "val_gen_mlp = train_generator(x_train, y_train, ratio_of_minor=0.25, batch_size=50, mlp=True)\n",
    "a, b = next(train_gen)\n",
    "a.shape, b.shape"
   ]
  },
  {
   "cell_type": "code",
   "execution_count": 90,
   "metadata": {
    "colab": {},
    "colab_type": "code",
    "id": "SNhdzFqQX7h6"
   },
   "outputs": [],
   "source": [
    "md_trend = Dense_Net((x_train.shape[1],))"
   ]
  },
  {
   "cell_type": "code",
   "execution_count": 91,
   "metadata": {
    "colab": {},
    "colab_type": "code",
    "id": "d84oMzmAX-IO"
   },
   "outputs": [],
   "source": [
    "ml_trend = LSTM_Net((x_train.shape[1], 1))"
   ]
  },
  {
   "cell_type": "code",
   "execution_count": 92,
   "metadata": {
    "colab": {},
    "colab_type": "code",
    "id": "CJgGHMzCYBs9"
   },
   "outputs": [],
   "source": [
    "mc_trend = CNN1D((x_train.shape[1], 1))"
   ]
  },
  {
   "cell_type": "code",
   "execution_count": 94,
   "metadata": {
    "colab": {},
    "colab_type": "code",
    "id": "g2TR9iQjYZf0"
   },
   "outputs": [
    {
     "name": "stdout",
     "output_type": "stream",
     "text": [
      "Train on 100 samples, validate on 49 samples\n",
      "100/100 [==============================] - 5s 55ms/sample - loss: 0.6212 - acc: 0.7200 - val_loss: 0.5605 - val_acc: 0.7551\n",
      "val_loss improved from 10000000000.00 to 0.56\n",
      "Model is saved on epoch 1.\n",
      "Train on 100 samples, validate on 49 samples\n",
      "Epoch 2/2\n",
      "100/100 [==============================] - 7s 68ms/sample - loss: 0.5448 - acc: 0.7600 - val_loss: 0.4505 - val_acc: 0.7755\n",
      "val_loss improved from 0.56 to 0.45\n",
      "Model is saved on epoch 2.\n",
      "Train on 100 samples, validate on 49 samples\n",
      "Epoch 3/3\n",
      "100/100 [==============================] - 3s 29ms/sample - loss: 0.4031 - acc: 0.8100 - val_loss: 0.2774 - val_acc: 0.8980\n",
      "val_loss improved from 0.45 to 0.28\n",
      "Model is saved on epoch 3.\n",
      "Train on 100 samples, validate on 49 samples\n",
      "Epoch 4/4\n",
      "100/100 [==============================] - 3s 29ms/sample - loss: 0.2793 - acc: 0.8700 - val_loss: 0.1880 - val_acc: 0.9388\n",
      "val_loss improved from 0.28 to 0.19\n",
      "Model is saved on epoch 4.\n",
      "Train on 100 samples, validate on 49 samples\n",
      "Epoch 5/5\n",
      "100/100 [==============================] - 9s 86ms/sample - loss: 0.1643 - acc: 0.9500 - val_loss: 0.0777 - val_acc: 0.9796\n",
      "val_loss improved from 0.19 to 0.08\n",
      "Model is saved on epoch 5.\n",
      "Train on 100 samples, validate on 49 samples\n",
      "Epoch 6/6\n",
      "100/100 [==============================] - 3s 30ms/sample - loss: 0.1597 - acc: 0.9500 - val_loss: 0.0451 - val_acc: 0.9796\n",
      "val_loss improved from 0.08 to 0.05\n",
      "Model is saved on epoch 6.\n",
      "Train on 100 samples, validate on 49 samples\n",
      "Epoch 7/7\n",
      "100/100 [==============================] - 3s 29ms/sample - loss: 0.1217 - acc: 0.9500 - val_loss: 0.0266 - val_acc: 1.0000\n",
      "val_loss improved from 0.05 to 0.03\n",
      "Model is saved on epoch 7.\n",
      "Train on 100 samples, validate on 49 samples\n",
      "Epoch 8/8\n",
      "100/100 [==============================] - 9s 90ms/sample - loss: 0.0877 - acc: 0.9700 - val_loss: 0.2206 - val_acc: 0.9592\n",
      "val_loss did not improve.\n",
      "Train on 100 samples, validate on 49 samples\n",
      "Epoch 9/9\n",
      "100/100 [==============================] - 3s 29ms/sample - loss: 0.0381 - acc: 1.0000 - val_loss: 0.1246 - val_acc: 0.9796\n",
      "val_loss did not improve.\n",
      "Train on 100 samples, validate on 49 samples\n",
      "Epoch 10/10\n",
      "100/100 [==============================] - 3s 29ms/sample - loss: 0.0471 - acc: 0.9900 - val_loss: 0.0063 - val_acc: 1.0000\n",
      "val_loss improved from 0.03 to 0.01\n",
      "Model is saved on epoch 10.\n",
      "Train on 100 samples, validate on 49 samples\n",
      "Epoch 11/11\n",
      "100/100 [==============================] - 3s 29ms/sample - loss: 0.0676 - acc: 0.9800 - val_loss: 0.0025 - val_acc: 1.0000\n",
      "val_loss improved from 0.01 to 0.00\n",
      "Model is saved on epoch 11.\n",
      "Train on 100 samples, validate on 49 samples\n",
      "Epoch 12/12\n",
      "100/100 [==============================] - 8s 81ms/sample - loss: 0.0133 - acc: 1.0000 - val_loss: 0.0079 - val_acc: 1.0000\n",
      "val_loss did not improve.\n",
      "Train on 100 samples, validate on 49 samples\n",
      "Epoch 13/13\n",
      "100/100 [==============================] - 5s 48ms/sample - loss: 0.0267 - acc: 0.9900 - val_loss: 0.3269 - val_acc: 0.9796\n",
      "val_loss did not improve.\n",
      "Train on 100 samples, validate on 49 samples\n",
      "Epoch 14/14\n",
      "100/100 [==============================] - 3s 30ms/sample - loss: 0.0137 - acc: 1.0000 - val_loss: 0.0023 - val_acc: 1.0000\n",
      "val_loss improved from 0.00 to 0.00\n",
      "Model is saved on epoch 14.\n",
      "Train on 100 samples, validate on 49 samples\n",
      "Epoch 15/15\n",
      "100/100 [==============================] - 8s 80ms/sample - loss: 0.0336 - acc: 0.9900 - val_loss: 9.9855e-04 - val_acc: 1.0000\n",
      "val_loss improved from 0.00 to 0.00\n",
      "Model is saved on epoch 15.\n",
      "Train on 100 samples, validate on 49 samples\n",
      "Epoch 16/16\n",
      "100/100 [==============================] - 5s 47ms/sample - loss: 0.0460 - acc: 0.9900 - val_loss: 0.0056 - val_acc: 1.0000\n",
      "val_loss did not improve.\n",
      "Train on 100 samples, validate on 49 samples\n",
      "Epoch 17/17\n",
      "100/100 [==============================] - 3s 29ms/sample - loss: 0.0212 - acc: 0.9900 - val_loss: 0.0018 - val_acc: 1.0000\n",
      "val_loss did not improve.\n",
      "Train on 100 samples, validate on 49 samples\n",
      "Epoch 18/18\n",
      "100/100 [==============================] - 8s 81ms/sample - loss: 0.0128 - acc: 1.0000 - val_loss: 5.4597e-04 - val_acc: 1.0000\n",
      "val_loss improved from 0.00 to 0.00\n",
      "Model is saved on epoch 18.\n",
      "Train on 100 samples, validate on 49 samples\n",
      "Epoch 19/19\n",
      "100/100 [==============================] - 3s 30ms/sample - loss: 0.0157 - acc: 0.9900 - val_loss: 0.0415 - val_acc: 0.9592\n",
      "val_loss did not improve.\n",
      "Train on 100 samples, validate on 49 samples\n",
      "Epoch 20/20\n",
      "100/100 [==============================] - 5s 47ms/sample - loss: 0.0011 - acc: 1.0000 - val_loss: 0.0014 - val_acc: 1.0000\n",
      "val_loss did not improve.\n",
      "Train on 100 samples, validate on 49 samples\n",
      "Epoch 21/21\n",
      "100/100 [==============================] - 8s 79ms/sample - loss: 0.0090 - acc: 1.0000 - val_loss: 9.6274e-04 - val_acc: 1.0000\n",
      "val_loss did not improve.\n",
      "Train on 100 samples, validate on 49 samples\n",
      "Epoch 22/22\n",
      "100/100 [==============================] - 3s 29ms/sample - loss: 0.1249 - acc: 0.9800 - val_loss: 5.4256e-04 - val_acc: 1.0000\n",
      "val_loss improved from 0.00 to 0.00\n",
      "Model is saved on epoch 22.\n",
      "Train on 100 samples, validate on 49 samples\n",
      "Epoch 23/23\n",
      "100/100 [==============================] - 3s 29ms/sample - loss: 0.1023 - acc: 0.9800 - val_loss: 0.0347 - val_acc: 0.9796\n",
      "val_loss did not improve.\n",
      "Train on 100 samples, validate on 49 samples\n",
      "Epoch 24/24\n",
      "100/100 [==============================] - 7s 66ms/sample - loss: 0.1348 - acc: 0.9800 - val_loss: 0.0127 - val_acc: 1.0000\n",
      "val_loss did not improve.\n",
      "Train on 100 samples, validate on 49 samples\n",
      "Epoch 25/25\n",
      "100/100 [==============================] - 5s 50ms/sample - loss: 0.0296 - acc: 0.9900 - val_loss: 0.0349 - val_acc: 0.9592\n",
      "val_loss did not improve.\n",
      "Model is loaded from a disk\n"
     ]
    }
   ],
   "source": [
    "md_trend.compile(optimizer=tf.keras.optimizers.Adam(lr=0.001),\n",
    "          loss=tf.keras.losses.BinaryCrossentropy(), metrics=['accuracy'])\n",
    "md_trend_trainer = Trainer(md_trend, 'md_trend', train_gen_mlp, val_gen_mlp)\n",
    "md_trend_trainer.train(25, 1)"
   ]
  },
  {
   "cell_type": "code",
   "execution_count": 0,
   "metadata": {
    "colab": {},
    "colab_type": "code",
    "id": "QrI82GTGYhQj"
   },
   "outputs": [],
   "source": [
    "ml_trend.compile(optimizer=tf.keras.optimizers.Adam(lr=0.001),\n",
    "          loss=tf.keras.losses.BinaryCrossentropy(), metrics=['accuracy'])\n",
    "ml_trend_trainer = Trainer(ml_trend, 'ml_trend', train_gen, val_gen)\n",
    "ml_trend_trainer.train(4, 1)"
   ]
  },
  {
   "cell_type": "code",
   "execution_count": 95,
   "metadata": {
    "colab": {},
    "colab_type": "code",
    "id": "S4gpXcj1YzB4"
   },
   "outputs": [
    {
     "name": "stdout",
     "output_type": "stream",
     "text": [
      "Train on 100 samples, validate on 50 samples\n",
      "100/100 [==============================] - 37s 374ms/sample - loss: 0.5622 - acc: 0.7600 - val_loss: 0.4820 - val_acc: 0.8000\n",
      "val_loss improved from 10000000000.00 to 0.48\n",
      "Model is saved on epoch 1.\n",
      "Train on 100 samples, validate on 50 samples\n",
      "Epoch 2/2\n",
      "100/100 [==============================] - 40s 399ms/sample - loss: 0.5387 - acc: 0.8000 - val_loss: 0.4833 - val_acc: 0.8000\n",
      "val_loss did not improve.\n",
      "Train on 100 samples, validate on 50 samples\n",
      "Epoch 3/3\n",
      "100/100 [==============================] - 36s 357ms/sample - loss: 0.5025 - acc: 0.8000 - val_loss: 0.4239 - val_acc: 0.8000\n",
      "val_loss improved from 0.48 to 0.42\n",
      "Model is saved on epoch 3.\n",
      "Train on 100 samples, validate on 50 samples\n",
      "Epoch 4/4\n",
      "100/100 [==============================] - 40s 399ms/sample - loss: 0.4084 - acc: 0.8000 - val_loss: 0.3568 - val_acc: 0.8000\n",
      "val_loss improved from 0.42 to 0.36\n",
      "Model is saved on epoch 4.\n",
      "Train on 100 samples, validate on 50 samples\n",
      "Epoch 5/5\n",
      "100/100 [==============================] - 32s 317ms/sample - loss: 0.3800 - acc: 0.8200 - val_loss: 0.2575 - val_acc: 0.9400\n",
      "val_loss improved from 0.36 to 0.26\n",
      "Model is saved on epoch 5.\n",
      "Train on 100 samples, validate on 50 samples\n",
      "Epoch 6/6\n",
      "100/100 [==============================] - 32s 321ms/sample - loss: 0.4133 - acc: 0.8700 - val_loss: 0.3911 - val_acc: 0.9600\n",
      "val_loss did not improve.\n",
      "Train on 100 samples, validate on 50 samples\n",
      "Epoch 7/7\n",
      "100/100 [==============================] - 35s 346ms/sample - loss: 0.2176 - acc: 0.9300 - val_loss: 0.1195 - val_acc: 0.9600\n",
      "val_loss improved from 0.26 to 0.12\n",
      "Model is saved on epoch 7.\n",
      "Train on 100 samples, validate on 50 samples\n",
      "Epoch 8/8\n",
      "100/100 [==============================] - 38s 384ms/sample - loss: 0.1684 - acc: 0.9400 - val_loss: 0.6760 - val_acc: 0.8400\n",
      "val_loss did not improve.\n",
      "Train on 100 samples, validate on 50 samples\n",
      "Epoch 9/9\n",
      "100/100 [==============================] - 34s 342ms/sample - loss: 0.2356 - acc: 0.9300 - val_loss: 0.2277 - val_acc: 0.9800\n",
      "val_loss did not improve.\n",
      "Train on 100 samples, validate on 50 samples\n",
      "Epoch 10/10\n",
      "100/100 [==============================] - 33s 334ms/sample - loss: 0.1286 - acc: 0.9500 - val_loss: 0.1080 - val_acc: 1.0000\n",
      "val_loss improved from 0.12 to 0.11\n",
      "Model is saved on epoch 10.\n",
      "Train on 100 samples, validate on 50 samples\n",
      "Epoch 11/11\n",
      "100/100 [==============================] - 32s 325ms/sample - loss: 0.1573 - acc: 0.9400 - val_loss: 0.0600 - val_acc: 1.0000\n",
      "val_loss improved from 0.11 to 0.06\n",
      "Model is saved on epoch 11.\n",
      "Train on 100 samples, validate on 50 samples\n",
      "Epoch 12/12\n",
      "100/100 [==============================] - 32s 322ms/sample - loss: 0.4134 - acc: 0.9400 - val_loss: 0.2694 - val_acc: 0.8800\n",
      "val_loss did not improve.\n",
      "Train on 100 samples, validate on 50 samples\n",
      "Epoch 13/13\n",
      "100/100 [==============================] - 39s 391ms/sample - loss: 0.2032 - acc: 0.9300 - val_loss: 0.1572 - val_acc: 0.9200\n",
      "val_loss did not improve.\n",
      "Train on 100 samples, validate on 50 samples\n",
      "Epoch 14/14\n",
      "100/100 [==============================] - 34s 340ms/sample - loss: 0.1433 - acc: 0.9500 - val_loss: 0.0481 - val_acc: 0.9800\n",
      "val_loss improved from 0.06 to 0.05\n",
      "Model is saved on epoch 14.\n",
      "Train on 100 samples, validate on 50 samples\n",
      "Epoch 15/15\n",
      " 53/100 [==============>...............] - ETA: 14s - loss: 0.3186 - acc: 0.9623\n",
      " Interrupted.\n"
     ]
    }
   ],
   "source": [
    "mc_trend.compile(optimizer=tf.keras.optimizers.Adam(lr=0.001),\n",
    "          loss=tf.keras.losses.BinaryCrossentropy(), metrics=['accuracy'])\n",
    "mc_trend_trainer = Trainer(mc_trend, 'mc_trend', train_gen, val_gen)\n",
    "mc_trend_trainer.train(25, 1)"
   ]
  },
  {
   "cell_type": "code",
   "execution_count": 96,
   "metadata": {
    "colab": {},
    "colab_type": "code",
    "id": "LVWIkT-VY9e3"
   },
   "outputs": [
    {
     "data": {
      "text/html": [
       "<div>\n",
       "<style scoped>\n",
       "    .dataframe tbody tr th:only-of-type {\n",
       "        vertical-align: middle;\n",
       "    }\n",
       "\n",
       "    .dataframe tbody tr th {\n",
       "        vertical-align: top;\n",
       "    }\n",
       "\n",
       "    .dataframe thead th {\n",
       "        text-align: right;\n",
       "    }\n",
       "</style>\n",
       "<table border=\"1\" class=\"dataframe\">\n",
       "  <thead>\n",
       "    <tr style=\"text-align: right;\">\n",
       "      <th></th>\n",
       "      <th>Sensitivity</th>\n",
       "      <th>Specificity</th>\n",
       "      <th>Precision</th>\n",
       "      <th>Recall</th>\n",
       "      <th>F1-score</th>\n",
       "    </tr>\n",
       "  </thead>\n",
       "  <tbody>\n",
       "    <tr>\n",
       "      <th>0</th>\n",
       "      <td>0.0</td>\n",
       "      <td>0.985841</td>\n",
       "      <td>0.0</td>\n",
       "      <td>0.991103</td>\n",
       "      <td>0.0</td>\n",
       "    </tr>\n",
       "  </tbody>\n",
       "</table>\n",
       "</div>"
      ],
      "text/plain": [
       "   Sensitivity  Specificity  Precision    Recall  F1-score\n",
       "0          0.0     0.985841        0.0  0.991103       0.0"
      ]
     },
     "execution_count": 96,
     "metadata": {},
     "output_type": "execute_result"
    },
    {
     "data": {
      "image/png": "[encoded data removed]",
      "text/plain": [
       "<Figure size 576x576 with 2 Axes>"
      ]
     },
     "metadata": {
      "needs_background": "light"
     },
     "output_type": "display_data"
    }
   ],
   "source": [
    "md_trend_trainer.model.compile(optimizer=tf.keras.optimizers.Adam(lr=0.001),\n",
    "          loss=tf.keras.losses.BinaryCrossentropy(), metrics=['accuracy'])\n",
    "md_trend = md_trend_trainer.model\n",
    "y_pred = md_trend.predict(x_test)\n",
    "evaluate_prediction(y_test, y_pred)"
   ]
  },
  {
   "cell_type": "code",
   "execution_count": 0,
   "metadata": {
    "colab": {},
    "colab_type": "code",
    "id": "AF1ipprBZF-B"
   },
   "outputs": [],
   "source": [
    "ml_trend_trainer.model.compile(optimizer=tf.keras.optimizers.Adam(lr=0.001),\n",
    "          loss=tf.keras.losses.BinaryCrossentropy(), metrics=['accuracy'])\n",
    "ml_trend = ml_trend_trainer.model\n",
    "y_pred = mc_trend.predict(x_test[:, :, np.newaxis])\n",
    "evaluate_prediction(y_test, y_pred)"
   ]
  },
  {
   "cell_type": "code",
   "execution_count": 98,
   "metadata": {
    "colab": {},
    "colab_type": "code",
    "id": "73-GQjCXZHBt"
   },
   "outputs": [
    {
     "data": {
      "text/html": [
       "<div>\n",
       "<style scoped>\n",
       "    .dataframe tbody tr th:only-of-type {\n",
       "        vertical-align: middle;\n",
       "    }\n",
       "\n",
       "    .dataframe tbody tr th {\n",
       "        vertical-align: top;\n",
       "    }\n",
       "\n",
       "    .dataframe thead th {\n",
       "        text-align: right;\n",
       "    }\n",
       "</style>\n",
       "<table border=\"1\" class=\"dataframe\">\n",
       "  <thead>\n",
       "    <tr style=\"text-align: right;\">\n",
       "      <th></th>\n",
       "      <th>Sensitivity</th>\n",
       "      <th>Specificity</th>\n",
       "      <th>Precision</th>\n",
       "      <th>Recall</th>\n",
       "      <th>F1-score</th>\n",
       "    </tr>\n",
       "  </thead>\n",
       "  <tbody>\n",
       "    <tr>\n",
       "      <th>0</th>\n",
       "      <td>0.6</td>\n",
       "      <td>0.99292</td>\n",
       "      <td>0.428571</td>\n",
       "      <td>0.996448</td>\n",
       "      <td>0.599359</td>\n",
       "    </tr>\n",
       "  </tbody>\n",
       "</table>\n",
       "</div>"
      ],
      "text/plain": [
       "   Sensitivity  Specificity  Precision    Recall  F1-score\n",
       "0          0.6      0.99292   0.428571  0.996448  0.599359"
      ]
     },
     "execution_count": 98,
     "metadata": {},
     "output_type": "execute_result"
    },
    {
     "data": {
      "image/png": "[encoded data removed]",
      "text/plain": [
       "<Figure size 576x576 with 2 Axes>"
      ]
     },
     "metadata": {
      "needs_background": "light"
     },
     "output_type": "display_data"
    }
   ],
   "source": [
    "mc_trend_trainer.model.compile(optimizer=tf.keras.optimizers.Adam(lr=0.001),\n",
    "          loss=tf.keras.losses.BinaryCrossentropy(), metrics=['accuracy'])\n",
    "mc_trend = mc_trend_trainer.model\n",
    "y_pred = mc_trend.predict(x_test[:, :, np.newaxis])\n",
    "evaluate_prediction(y_test, y_pred)"
   ]
  },
  {
   "cell_type": "code",
   "execution_count": 99,
   "metadata": {
    "colab": {},
    "colab_type": "code",
    "id": "hWib6d8diq-R"
   },
   "outputs": [
    {
     "name": "stderr",
     "output_type": "stream",
     "text": [
      "/opt/conda/envs/Python36/lib/python3.6/site-packages/sklearn/utils/validation.py:761: DataConversionWarning: A column-vector y was passed when a 1d array was expected. Please change the shape of y to (n_samples, ), for example using ravel().\n",
      "  y = column_or_1d(y, warn=True)\n"
     ]
    },
    {
     "data": {
      "text/html": [
       "<div>\n",
       "<style scoped>\n",
       "    .dataframe tbody tr th:only-of-type {\n",
       "        vertical-align: middle;\n",
       "    }\n",
       "\n",
       "    .dataframe tbody tr th {\n",
       "        vertical-align: top;\n",
       "    }\n",
       "\n",
       "    .dataframe thead th {\n",
       "        text-align: right;\n",
       "    }\n",
       "</style>\n",
       "<table border=\"1\" class=\"dataframe\">\n",
       "  <thead>\n",
       "    <tr style=\"text-align: right;\">\n",
       "      <th></th>\n",
       "      <th>Sensitivity</th>\n",
       "      <th>Specificity</th>\n",
       "      <th>Precision</th>\n",
       "      <th>Recall</th>\n",
       "      <th>F1-score</th>\n",
       "    </tr>\n",
       "  </thead>\n",
       "  <tbody>\n",
       "    <tr>\n",
       "      <th>0</th>\n",
       "      <td>0.0</td>\n",
       "      <td>1.0</td>\n",
       "      <td>0</td>\n",
       "      <td>0.991228</td>\n",
       "      <td>0.0</td>\n",
       "    </tr>\n",
       "  </tbody>\n",
       "</table>\n",
       "</div>"
      ],
      "text/plain": [
       "   Sensitivity  Specificity  Precision    Recall  F1-score\n",
       "0          0.0          1.0          0  0.991228       0.0"
      ]
     },
     "execution_count": 99,
     "metadata": {},
     "output_type": "execute_result"
    },
    {
     "data": {
      "image/png": "[encoded data removed]",
      "text/plain": [
       "<Figure size 576x576 with 2 Axes>"
      ]
     },
     "metadata": {
      "needs_background": "light"
     },
     "output_type": "display_data"
    }
   ],
   "source": [
    "svc = SVC(gamma='auto')\n",
    "svc.fit(x_train, y_train)\n",
    "y_pred = svc.predict(x_test)\n",
    "evaluate_prediction(y_test, y_pred)"
   ]
  },
  {
   "cell_type": "markdown",
   "metadata": {
    "colab_type": "text",
    "id": "ut0ucvzJfBKx"
   },
   "source": [
    "## Modeling on Frequency Data"
   ]
  },
  {
   "cell_type": "code",
   "execution_count": 15,
   "metadata": {
    "colab": {},
    "colab_type": "code",
    "id": "pj_OogBCEI8W"
   },
   "outputs": [],
   "source": [
    "# x_train = np.load(\"data/x_train_freq.npy\")\n",
    "# x_test = np.load(\"data/x_test_freq.npy\")\n",
    "\n",
    "# y_train = np.load(\"data/label_train.npy\")\n",
    "# y_test = np.load(\"data/label_test.npy\")\n",
    "\n",
    "x_train = load_csv_Watson('x_train_freq.csv')\n",
    "x_test = load_csv_Watson('x_test_freq.csv')\n",
    "\n",
    "y_train = load_csv_Watson('labels_train.csv')\n",
    "y_test = load_csv_Watson('labels_test.csv')"
   ]
  },
  {
   "cell_type": "code",
   "execution_count": 16,
   "metadata": {
    "colab": {},
    "colab_type": "code",
    "id": "zwUoaDI2flGW"
   },
   "outputs": [],
   "source": [
    "train_dataset = tf.data.Dataset.from_tensor_slices((x_train, y_train))\n",
    "test_dataset = tf.data.Dataset.from_tensor_slices((x_test, y_test))\n",
    "\n",
    "BATCH_SIZE = 64\n",
    "SHUFFLE_BUFFER_SIZE = 100\n",
    "\n",
    "train_dataset = train_dataset.shuffle(SHUFFLE_BUFFER_SIZE).batch(BATCH_SIZE)\n",
    "test_dataset = test_dataset.batch(BATCH_SIZE)"
   ]
  },
  {
   "cell_type": "code",
   "execution_count": 17,
   "metadata": {
    "colab": {},
    "colab_type": "code",
    "id": "Z4q2x6QYLYPI"
   },
   "outputs": [
    {
     "data": {
      "text/plain": [
       "((100, 1598, 1), (100,))"
      ]
     },
     "execution_count": 17,
     "metadata": {},
     "output_type": "execute_result"
    }
   ],
   "source": [
    "# custom train generators\n",
    "train_gen = train_generator(x_train, y_train, ratio_of_minor=0.2, batch_size=100)\n",
    "val_gen = train_generator(x_train, y_train, ratio_of_minor=0.2, batch_size=50)\n",
    "train_gen_mlp = train_generator(x_train, y_train, ratio_of_minor=0.25, batch_size=100, mlp=True)\n",
    "val_gen_mlp = train_generator(x_train, y_train, ratio_of_minor=0.25, batch_size=50, mlp=True)\n",
    "a, b = next(train_gen)\n",
    "a.shape, b.shape"
   ]
  },
  {
   "cell_type": "code",
   "execution_count": 18,
   "metadata": {
    "colab": {},
    "colab_type": "code",
    "id": "FYLIYjS3ftJi"
   },
   "outputs": [
    {
     "name": "stdout",
     "output_type": "stream",
     "text": [
      "WARNING:tensorflow:From /opt/conda/envs/Python36/lib/python3.6/site-packages/tensorflow/python/ops/resource_variable_ops.py:435: colocate_with (from tensorflow.python.framework.ops) is deprecated and will be removed in a future version.\n",
      "Instructions for updating:\n",
      "Colocations handled automatically by placer.\n",
      "WARNING:tensorflow:From /opt/conda/envs/Python36/lib/python3.6/site-packages/tensorflow/python/keras/layers/core.py:143: calling dropout (from tensorflow.python.ops.nn_ops) with keep_prob is deprecated and will be removed in a future version.\n",
      "Instructions for updating:\n",
      "Please use `rate` instead of `keep_prob`. Rate should be set to `rate = 1 - keep_prob`.\n"
     ]
    }
   ],
   "source": [
    "md_freq = Dense_Net((x_train.shape[1], ))"
   ]
  },
  {
   "cell_type": "code",
   "execution_count": 19,
   "metadata": {
    "colab": {},
    "colab_type": "code",
    "id": "DnvW6aSlf4Ux"
   },
   "outputs": [],
   "source": [
    "ml_freq = LSTM_Net((x_train.shape[1], 1))"
   ]
  },
  {
   "cell_type": "code",
   "execution_count": 20,
   "metadata": {
    "colab": {},
    "colab_type": "code",
    "id": "qrdIrdGOf9ou"
   },
   "outputs": [],
   "source": [
    "mc_freq = CNN1D((x_train.shape[1], 1))"
   ]
  },
  {
   "cell_type": "code",
   "execution_count": 21,
   "metadata": {
    "colab": {},
    "colab_type": "code",
    "id": "-qM2zM5bgDQG"
   },
   "outputs": [
    {
     "name": "stdout",
     "output_type": "stream",
     "text": [
      "WARNING:tensorflow:From /opt/conda/envs/Python36/lib/python3.6/site-packages/tensorflow/python/keras/utils/losses_utils.py:170: to_float (from tensorflow.python.ops.math_ops) is deprecated and will be removed in a future version.\n",
      "Instructions for updating:\n",
      "Use tf.cast instead.\n",
      "Train on 100 samples, validate on 49 samples\n",
      "WARNING:tensorflow:From /opt/conda/envs/Python36/lib/python3.6/site-packages/tensorflow/python/ops/math_ops.py:3066: to_int32 (from tensorflow.python.ops.math_ops) is deprecated and will be removed in a future version.\n",
      "Instructions for updating:\n",
      "Use tf.cast instead.\n",
      "100/100 [==============================] - 11s 113ms/sample - loss: 1.6907 - acc: 0.5700 - val_loss: 0.8522 - val_acc: 0.7143\n",
      "val_loss improved from 10000000000.00 to 0.85\n",
      "Model is saved on epoch 1.\n",
      "Train on 100 samples, validate on 49 samples\n",
      "Epoch 2/2\n",
      "100/100 [==============================] - 3s 28ms/sample - loss: 1.4174 - acc: 0.6500 - val_loss: 0.3718 - val_acc: 0.8980\n",
      "val_loss improved from 0.85 to 0.37\n",
      "Model is saved on epoch 2.\n",
      "Train on 100 samples, validate on 49 samples\n",
      "Epoch 3/3\n",
      "100/100 [==============================] - 3s 26ms/sample - loss: 0.4962 - acc: 0.8500 - val_loss: 0.4486 - val_acc: 0.8776\n",
      "val_loss did not improve.\n",
      "Train on 100 samples, validate on 49 samples\n",
      "Epoch 4/4\n",
      "100/100 [==============================] - 8s 79ms/sample - loss: 0.4132 - acc: 0.8600 - val_loss: 0.4786 - val_acc: 0.9184\n",
      "val_loss did not improve.\n",
      "Train on 100 samples, validate on 49 samples\n",
      "Epoch 5/5\n",
      "100/100 [==============================] - 3s 28ms/sample - loss: 0.4039 - acc: 0.8700 - val_loss: 0.3325 - val_acc: 0.9592\n",
      "val_loss improved from 0.37 to 0.33\n",
      "Model is saved on epoch 5.\n",
      "Train on 100 samples, validate on 49 samples\n",
      "Epoch 6/6\n",
      "100/100 [==============================] - 3s 31ms/sample - loss: 0.5620 - acc: 0.8700 - val_loss: 0.2190 - val_acc: 0.8776\n",
      "val_loss improved from 0.33 to 0.22\n",
      "Model is saved on epoch 6.\n",
      "Train on 100 samples, validate on 49 samples\n",
      "Epoch 7/7\n",
      "100/100 [==============================] - 8s 82ms/sample - loss: 0.3859 - acc: 0.8700 - val_loss: 0.1145 - val_acc: 0.9796\n",
      "val_loss improved from 0.22 to 0.11\n",
      "Model is saved on epoch 7.\n",
      "Train on 100 samples, validate on 49 samples\n",
      "Epoch 8/8\n",
      "100/100 [==============================] - 3s 27ms/sample - loss: 0.2241 - acc: 0.9300 - val_loss: 0.0323 - val_acc: 1.0000\n",
      "val_loss improved from 0.11 to 0.03\n",
      "Model is saved on epoch 8.\n",
      "Train on 100 samples, validate on 49 samples\n",
      "Epoch 9/9\n",
      "100/100 [==============================] - 3s 29ms/sample - loss: 0.2951 - acc: 0.9200 - val_loss: 0.0551 - val_acc: 1.0000\n",
      "val_loss did not improve.\n",
      "Train on 100 samples, validate on 49 samples\n",
      "Epoch 10/10\n",
      "100/100 [==============================] - 3s 28ms/sample - loss: 0.3832 - acc: 0.9000 - val_loss: 0.0745 - val_acc: 0.9592\n",
      "val_loss did not improve.\n",
      "Train on 100 samples, validate on 49 samples\n",
      "Epoch 11/11\n",
      "100/100 [==============================] - 8s 82ms/sample - loss: 0.1547 - acc: 0.9600 - val_loss: 0.0736 - val_acc: 0.9796\n",
      "val_loss did not improve.\n",
      "Train on 100 samples, validate on 49 samples\n",
      "Epoch 12/12\n",
      "100/100 [==============================] - 3s 27ms/sample - loss: 0.1887 - acc: 0.9400 - val_loss: 0.0902 - val_acc: 0.9388\n",
      "val_loss did not improve.\n",
      "Train on 100 samples, validate on 49 samples\n",
      "Epoch 13/13\n",
      "100/100 [==============================] - 3s 27ms/sample - loss: 0.5666 - acc: 0.8900 - val_loss: 0.0330 - val_acc: 1.0000\n",
      "val_loss did not improve.\n",
      "Train on 100 samples, validate on 49 samples\n",
      "Epoch 14/14\n",
      "100/100 [==============================] - 3s 28ms/sample - loss: 0.1060 - acc: 0.9700 - val_loss: 0.0211 - val_acc: 1.0000\n",
      "val_loss improved from 0.03 to 0.02\n",
      "Model is saved on epoch 14.\n",
      "Train on 100 samples, validate on 49 samples\n",
      "Epoch 15/15\n",
      "100/100 [==============================] - 8s 81ms/sample - loss: 0.2361 - acc: 0.9600 - val_loss: 0.0276 - val_acc: 1.0000\n",
      "val_loss did not improve.\n",
      "Train on 100 samples, validate on 49 samples\n",
      "Epoch 16/16\n",
      "100/100 [==============================] - 3s 27ms/sample - loss: 0.0656 - acc: 0.9800 - val_loss: 0.0269 - val_acc: 1.0000\n",
      "val_loss did not improve.\n",
      "Train on 100 samples, validate on 49 samples\n",
      "Epoch 17/17\n",
      "100/100 [==============================] - 3s 26ms/sample - loss: 0.0648 - acc: 0.9800 - val_loss: 0.0154 - val_acc: 1.0000\n",
      "val_loss improved from 0.02 to 0.02\n",
      "Model is saved on epoch 17.\n",
      "Train on 100 samples, validate on 49 samples\n",
      "Epoch 18/18\n",
      "100/100 [==============================] - 3s 26ms/sample - loss: 0.2638 - acc: 0.9700 - val_loss: 0.0082 - val_acc: 1.0000\n",
      "val_loss improved from 0.02 to 0.01\n",
      "Model is saved on epoch 18.\n",
      "Train on 100 samples, validate on 49 samples\n",
      "Epoch 19/19\n",
      "100/100 [==============================] - 9s 88ms/sample - loss: 0.1455 - acc: 0.9400 - val_loss: 0.0349 - val_acc: 0.9796\n",
      "val_loss did not improve.\n",
      "Train on 100 samples, validate on 49 samples\n",
      "Epoch 20/20\n",
      "100/100 [==============================] - 3s 29ms/sample - loss: 0.0655 - acc: 0.9800 - val_loss: 0.0428 - val_acc: 0.9796\n",
      "val_loss did not improve.\n",
      "Train on 100 samples, validate on 49 samples\n",
      "Epoch 21/21\n",
      "100/100 [==============================] - 3s 28ms/sample - loss: 0.2273 - acc: 0.9600 - val_loss: 0.0074 - val_acc: 1.0000\n",
      "val_loss improved from 0.01 to 0.01\n",
      "Model is saved on epoch 21.\n",
      "Train on 100 samples, validate on 49 samples\n",
      "Epoch 22/22\n",
      "100/100 [==============================] - 10s 101ms/sample - loss: 0.0728 - acc: 0.9700 - val_loss: 0.0151 - val_acc: 1.0000\n",
      "val_loss did not improve.\n",
      "Train on 100 samples, validate on 49 samples\n",
      "Epoch 23/23\n",
      "100/100 [==============================] - 3s 27ms/sample - loss: 0.0508 - acc: 0.9900 - val_loss: 0.1813 - val_acc: 0.9796\n",
      "val_loss did not improve.\n",
      "Train on 100 samples, validate on 49 samples\n",
      "Epoch 24/24\n",
      "100/100 [==============================] - 3s 29ms/sample - loss: 0.0962 - acc: 0.9800 - val_loss: 0.0036 - val_acc: 1.0000\n",
      "val_loss improved from 0.01 to 0.00\n",
      "Model is saved on epoch 24.\n",
      "Train on 100 samples, validate on 49 samples\n",
      "Epoch 25/25\n",
      "100/100 [==============================] - 8s 79ms/sample - loss: 0.0282 - acc: 0.9900 - val_loss: 0.0124 - val_acc: 1.0000\n",
      "val_loss did not improve.\n",
      "Model is loaded from a disk\n"
     ]
    }
   ],
   "source": [
    "md_freq.compile(optimizer=tf.keras.optimizers.Adam(lr=0.001),\n",
    "          loss=tf.keras.losses.BinaryCrossentropy(), metrics=['accuracy'])\n",
    "md_freq_trainer = Trainer(md_freq, 'md_freq', train_gen_mlp, val_gen_mlp)\n",
    "md_freq_trainer.train(25, 1)"
   ]
  },
  {
   "cell_type": "code",
   "execution_count": 22,
   "metadata": {
    "colab": {},
    "colab_type": "code",
    "id": "6awtLBdfgNQy"
   },
   "outputs": [
    {
     "name": "stdout",
     "output_type": "stream",
     "text": [
      "Train on 100 samples, validate on 50 samples\n",
      "100/100 [==============================] - 2837s 28s/sample - loss: 0.5294 - acc: 0.7800 - val_loss: 0.5268 - val_acc: 0.8000\n",
      "val_loss improved from 10000000000.00 to 0.53\n",
      "Model is saved on epoch 1.\n",
      "Model is loaded from a disk\n"
     ]
    }
   ],
   "source": [
    "ml_freq.compile(optimizer=tf.keras.optimizers.Adam(lr=0.001),\n",
    "          loss=tf.keras.losses.BinaryCrossentropy(), metrics=['accuracy'])\n",
    "ml_freq_trainer = Trainer(ml_freq, 'ml_freq', train_gen, val_gen)\n",
    "ml_freq_trainer.train(1, 1)"
   ]
  },
  {
   "cell_type": "code",
   "execution_count": 23,
   "metadata": {
    "colab": {},
    "colab_type": "code",
    "id": "6tmt_mGigbvY"
   },
   "outputs": [
    {
     "name": "stdout",
     "output_type": "stream",
     "text": [
      "Train on 100 samples, validate on 50 samples\n",
      "100/100 [==============================] - 30s 302ms/sample - loss: 2.6351 - acc: 0.7600 - val_loss: 1.5960 - val_acc: 0.8000\n",
      "val_loss improved from 10000000000.00 to 1.60\n",
      "Model is saved on epoch 1.\n",
      "Train on 100 samples, validate on 50 samples\n",
      "Epoch 2/2\n",
      "100/100 [==============================] - 34s 336ms/sample - loss: 1.0866 - acc: 0.7800 - val_loss: 0.4897 - val_acc: 0.8000\n",
      "val_loss improved from 1.60 to 0.49\n",
      "Model is saved on epoch 2.\n",
      "Train on 100 samples, validate on 50 samples\n",
      "Epoch 3/3\n",
      "100/100 [==============================] - 28s 285ms/sample - loss: 0.5039 - acc: 0.8300 - val_loss: 0.4995 - val_acc: 0.8800\n",
      "val_loss did not improve.\n",
      "Train on 100 samples, validate on 50 samples\n",
      "Epoch 4/4\n",
      "100/100 [==============================] - 30s 303ms/sample - loss: 0.4441 - acc: 0.8300 - val_loss: 0.5129 - val_acc: 0.8400\n",
      "val_loss did not improve.\n",
      "Train on 100 samples, validate on 50 samples\n",
      "Epoch 5/5\n",
      "100/100 [==============================] - 22s 222ms/sample - loss: 0.4163 - acc: 0.8500 - val_loss: 0.3641 - val_acc: 0.9000\n",
      "val_loss improved from 0.49 to 0.36\n",
      "Model is saved on epoch 5.\n",
      "Train on 100 samples, validate on 50 samples\n",
      "Epoch 6/6\n",
      "100/100 [==============================] - 28s 282ms/sample - loss: 0.4342 - acc: 0.8300 - val_loss: 0.4447 - val_acc: 0.9400\n",
      "val_loss did not improve.\n",
      "Train on 100 samples, validate on 50 samples\n",
      "Epoch 7/7\n",
      "100/100 [==============================] - 28s 277ms/sample - loss: 0.4301 - acc: 0.8700 - val_loss: 0.2914 - val_acc: 0.8400\n",
      "val_loss improved from 0.36 to 0.29\n",
      "Model is saved on epoch 7.\n",
      "Train on 100 samples, validate on 50 samples\n",
      "Epoch 8/8\n",
      "100/100 [==============================] - 23s 229ms/sample - loss: 0.3380 - acc: 0.8700 - val_loss: 0.3359 - val_acc: 0.9400\n",
      "val_loss did not improve.\n",
      "Train on 100 samples, validate on 50 samples\n",
      "Epoch 9/9\n",
      "100/100 [==============================] - 30s 302ms/sample - loss: 0.3221 - acc: 0.8800 - val_loss: 0.2454 - val_acc: 0.9600\n",
      "val_loss improved from 0.29 to 0.25\n",
      "Model is saved on epoch 9.\n",
      "Train on 100 samples, validate on 50 samples\n",
      "Epoch 10/10\n",
      "100/100 [==============================] - 29s 290ms/sample - loss: 0.2965 - acc: 0.8800 - val_loss: 0.2986 - val_acc: 0.9800\n",
      "val_loss did not improve.\n",
      "Train on 100 samples, validate on 50 samples\n",
      "Epoch 11/11\n",
      "100/100 [==============================] - 30s 303ms/sample - loss: 0.2090 - acc: 0.9400 - val_loss: 0.1996 - val_acc: 0.9400\n",
      "val_loss improved from 0.25 to 0.20\n",
      "Model is saved on epoch 11.\n",
      "Train on 100 samples, validate on 50 samples\n",
      "Epoch 12/12\n",
      "100/100 [==============================] - 28s 281ms/sample - loss: 0.2266 - acc: 0.9100 - val_loss: 0.2979 - val_acc: 0.9400\n",
      "val_loss did not improve.\n",
      "Train on 100 samples, validate on 50 samples\n",
      "Epoch 13/13\n",
      "100/100 [==============================] - 22s 224ms/sample - loss: 0.2735 - acc: 0.9500 - val_loss: 0.2242 - val_acc: 0.9400\n",
      "val_loss did not improve.\n",
      "Train on 100 samples, validate on 50 samples\n",
      "Epoch 14/14\n",
      "100/100 [==============================] - 31s 309ms/sample - loss: 0.3587 - acc: 0.8900 - val_loss: 0.2331 - val_acc: 0.9800\n",
      "val_loss did not improve.\n",
      "Train on 100 samples, validate on 50 samples\n",
      "Epoch 15/15\n",
      "100/100 [==============================] - 30s 303ms/sample - loss: 0.2296 - acc: 0.9100 - val_loss: 0.2981 - val_acc: 0.9800\n",
      "val_loss did not improve.\n",
      "Model is loaded from a disk\n"
     ]
    }
   ],
   "source": [
    "mc_freq.compile(optimizer=tf.keras.optimizers.Adam(lr=0.001),\n",
    "          loss=tf.keras.losses.BinaryCrossentropy(), metrics=['accuracy'])\n",
    "mc_freq_trainer = Trainer(mc_freq, 'mc_freq', train_gen, val_gen)\n",
    "mc_freq_trainer.train(15, 1)"
   ]
  },
  {
   "cell_type": "code",
   "execution_count": 24,
   "metadata": {
    "colab": {},
    "colab_type": "code",
    "id": "EXxnEOccg4A3"
   },
   "outputs": [
    {
     "data": {
      "text/html": [
       "<div>\n",
       "<style scoped>\n",
       "    .dataframe tbody tr th:only-of-type {\n",
       "        vertical-align: middle;\n",
       "    }\n",
       "\n",
       "    .dataframe tbody tr th {\n",
       "        vertical-align: top;\n",
       "    }\n",
       "\n",
       "    .dataframe thead th {\n",
       "        text-align: right;\n",
       "    }\n",
       "</style>\n",
       "<table border=\"1\" class=\"dataframe\">\n",
       "  <thead>\n",
       "    <tr style=\"text-align: right;\">\n",
       "      <th></th>\n",
       "      <th>Sensitivity</th>\n",
       "      <th>Specificity</th>\n",
       "      <th>Precision</th>\n",
       "      <th>Recall</th>\n",
       "      <th>F1-score</th>\n",
       "    </tr>\n",
       "  </thead>\n",
       "  <tbody>\n",
       "    <tr>\n",
       "      <th>0</th>\n",
       "      <td>0.0</td>\n",
       "      <td>1.0</td>\n",
       "      <td>0</td>\n",
       "      <td>0.991228</td>\n",
       "      <td>0.0</td>\n",
       "    </tr>\n",
       "  </tbody>\n",
       "</table>\n",
       "</div>"
      ],
      "text/plain": [
       "   Sensitivity  Specificity  Precision    Recall  F1-score\n",
       "0          0.0          1.0          0  0.991228       0.0"
      ]
     },
     "execution_count": 24,
     "metadata": {},
     "output_type": "execute_result"
    },
    {
     "data": {
      "image/png": "[encoded data removed]",
      "text/plain": [
       "<Figure size 576x576 with 2 Axes>"
      ]
     },
     "metadata": {
      "needs_background": "light"
     },
     "output_type": "display_data"
    }
   ],
   "source": [
    "md_freq_trainer.model.compile(optimizer=tf.keras.optimizers.Adam(lr=0.001),\n",
    "          loss=tf.keras.losses.BinaryCrossentropy(), metrics=['accuracy'])\n",
    "md_freq = md_freq_trainer.model\n",
    "y_pred = md_freq.predict(x_test)\n",
    "evaluate_prediction(y_test, y_pred)"
   ]
  },
  {
   "cell_type": "code",
   "execution_count": 25,
   "metadata": {
    "colab": {},
    "colab_type": "code",
    "id": "CSexcaV_g_iG"
   },
   "outputs": [
    {
     "data": {
      "text/html": [
       "<div>\n",
       "<style scoped>\n",
       "    .dataframe tbody tr th:only-of-type {\n",
       "        vertical-align: middle;\n",
       "    }\n",
       "\n",
       "    .dataframe tbody tr th {\n",
       "        vertical-align: top;\n",
       "    }\n",
       "\n",
       "    .dataframe thead th {\n",
       "        text-align: right;\n",
       "    }\n",
       "</style>\n",
       "<table border=\"1\" class=\"dataframe\">\n",
       "  <thead>\n",
       "    <tr style=\"text-align: right;\">\n",
       "      <th></th>\n",
       "      <th>Sensitivity</th>\n",
       "      <th>Specificity</th>\n",
       "      <th>Precision</th>\n",
       "      <th>Recall</th>\n",
       "      <th>F1-score</th>\n",
       "    </tr>\n",
       "  </thead>\n",
       "  <tbody>\n",
       "    <tr>\n",
       "      <th>0</th>\n",
       "      <td>0.0</td>\n",
       "      <td>1.0</td>\n",
       "      <td>0</td>\n",
       "      <td>0.991228</td>\n",
       "      <td>0.0</td>\n",
       "    </tr>\n",
       "  </tbody>\n",
       "</table>\n",
       "</div>"
      ],
      "text/plain": [
       "   Sensitivity  Specificity  Precision    Recall  F1-score\n",
       "0          0.0          1.0          0  0.991228       0.0"
      ]
     },
     "execution_count": 25,
     "metadata": {},
     "output_type": "execute_result"
    },
    {
     "data": {
      "image/png": "[encoded data removed]",
      "text/plain": [
       "<Figure size 576x576 with 2 Axes>"
      ]
     },
     "metadata": {
      "needs_background": "light"
     },
     "output_type": "display_data"
    }
   ],
   "source": [
    "ml_freq_trainer.model.compile(optimizer=tf.keras.optimizers.Adam(lr=0.001),\n",
    "          loss=tf.keras.losses.BinaryCrossentropy(), metrics=['accuracy'])\n",
    "ml_freq = ml_freq_trainer.model\n",
    "y_pred = ml_freq.predict(x_test[:, :, np.newaxis])\n",
    "evaluate_prediction(y_test, y_pred)"
   ]
  },
  {
   "cell_type": "code",
   "execution_count": 26,
   "metadata": {
    "colab": {},
    "colab_type": "code",
    "id": "wBY7vcuohBRQ"
   },
   "outputs": [
    {
     "data": {
      "text/html": [
       "<div>\n",
       "<style scoped>\n",
       "    .dataframe tbody tr th:only-of-type {\n",
       "        vertical-align: middle;\n",
       "    }\n",
       "\n",
       "    .dataframe tbody tr th {\n",
       "        vertical-align: top;\n",
       "    }\n",
       "\n",
       "    .dataframe thead th {\n",
       "        text-align: right;\n",
       "    }\n",
       "</style>\n",
       "<table border=\"1\" class=\"dataframe\">\n",
       "  <thead>\n",
       "    <tr style=\"text-align: right;\">\n",
       "      <th></th>\n",
       "      <th>Sensitivity</th>\n",
       "      <th>Specificity</th>\n",
       "      <th>Precision</th>\n",
       "      <th>Recall</th>\n",
       "      <th>F1-score</th>\n",
       "    </tr>\n",
       "  </thead>\n",
       "  <tbody>\n",
       "    <tr>\n",
       "      <th>0</th>\n",
       "      <td>1.0</td>\n",
       "      <td>0.985841</td>\n",
       "      <td>0.384615</td>\n",
       "      <td>1.0</td>\n",
       "      <td>0.555556</td>\n",
       "    </tr>\n",
       "  </tbody>\n",
       "</table>\n",
       "</div>"
      ],
      "text/plain": [
       "   Sensitivity  Specificity  Precision  Recall  F1-score\n",
       "0          1.0     0.985841   0.384615     1.0  0.555556"
      ]
     },
     "execution_count": 26,
     "metadata": {},
     "output_type": "execute_result"
    },
    {
     "data": {
      "image/png": "[encoded data removed]",
      "text/plain": [
       "<Figure size 576x576 with 2 Axes>"
      ]
     },
     "metadata": {
      "needs_background": "light"
     },
     "output_type": "display_data"
    }
   ],
   "source": [
    "mc_freq_trainer.model.compile(optimizer=tf.keras.optimizers.Adam(lr=0.001),\n",
    "          loss=tf.keras.losses.BinaryCrossentropy(), metrics=['accuracy'])\n",
    "mc_freq = mc_freq_trainer.model\n",
    "y_pred = mc_freq.predict(x_test[:, :, np.newaxis])\n",
    "evaluate_prediction(y_test, y_pred)"
   ]
  },
  {
   "cell_type": "code",
   "execution_count": 27,
   "metadata": {
    "colab": {},
    "colab_type": "code",
    "id": "tWG6S5VJjGA4"
   },
   "outputs": [
    {
     "name": "stderr",
     "output_type": "stream",
     "text": [
      "/opt/conda/envs/Python36/lib/python3.6/site-packages/sklearn/utils/validation.py:761: DataConversionWarning: A column-vector y was passed when a 1d array was expected. Please change the shape of y to (n_samples, ), for example using ravel().\n",
      "  y = column_or_1d(y, warn=True)\n"
     ]
    },
    {
     "data": {
      "text/html": [
       "<div>\n",
       "<style scoped>\n",
       "    .dataframe tbody tr th:only-of-type {\n",
       "        vertical-align: middle;\n",
       "    }\n",
       "\n",
       "    .dataframe tbody tr th {\n",
       "        vertical-align: top;\n",
       "    }\n",
       "\n",
       "    .dataframe thead th {\n",
       "        text-align: right;\n",
       "    }\n",
       "</style>\n",
       "<table border=\"1\" class=\"dataframe\">\n",
       "  <thead>\n",
       "    <tr style=\"text-align: right;\">\n",
       "      <th></th>\n",
       "      <th>Sensitivity</th>\n",
       "      <th>Specificity</th>\n",
       "      <th>Precision</th>\n",
       "      <th>Recall</th>\n",
       "      <th>F1-score</th>\n",
       "    </tr>\n",
       "  </thead>\n",
       "  <tbody>\n",
       "    <tr>\n",
       "      <th>0</th>\n",
       "      <td>0.0</td>\n",
       "      <td>1.0</td>\n",
       "      <td>0</td>\n",
       "      <td>0.991228</td>\n",
       "      <td>0.0</td>\n",
       "    </tr>\n",
       "  </tbody>\n",
       "</table>\n",
       "</div>"
      ],
      "text/plain": [
       "   Sensitivity  Specificity  Precision    Recall  F1-score\n",
       "0          0.0          1.0          0  0.991228       0.0"
      ]
     },
     "execution_count": 27,
     "metadata": {},
     "output_type": "execute_result"
    },
    {
     "data": {
      "image/png": "[encoded data removed]",
      "text/plain": [
       "<Figure size 576x576 with 2 Axes>"
      ]
     },
     "metadata": {
      "needs_background": "light"
     },
     "output_type": "display_data"
    }
   ],
   "source": [
    "svc = SVC(gamma='auto')\n",
    "svc.fit(x_train, y_train)\n",
    "y_pred = svc.predict(x_test)\n",
    "evaluate_prediction(y_test, y_pred)"
   ]
  },
  {
   "cell_type": "markdown",
   "metadata": {
    "colab_type": "text",
    "id": "ZJueiRO4ZUpn"
   },
   "source": [
    "### Conclusion"
   ]
  },
  {
   "cell_type": "markdown",
   "metadata": {
    "colab": {},
    "colab_type": "code",
    "id": "8ru6nS7nDH1C"
   },
   "source": [
    "Multiple approaches to solve the given problem were tried and tested in the current notebook. A set of utility functions was introduced to facilitate the training and comparison. Due to the extreme skew toward planetless instances, models struggled to learn features necessary to identify the ones with exoplanets in their orbits. Thus, a custom data generator, that allows to boost an amount of instances of a given class in a batch, was created to compensate. That also renders `'accuracy'` metric useless, as just predicting 0 all the time already approaches its value to 0.99.\n",
    "\n",
    "On the other hand, a more reliable set of evaluation measures is computed in the function dedicated to the evaluation of prediction.\n",
    "It may have been observed, that the convolutional network was the most efficient model in every experiment: it has the highest performance on the test set, its training is fast enough and there's surely room to improve. LSTM-based network appears to be terribly slow in training, which makes it harder to optimize, however, it may also be a possible ***good*** model.\n",
    "\n",
    "***Nonetheless, one chooses to proceed with convolutional network as the final model.***\n",
    "\n",
    "Finally, every data augmentation that was introduced has borne its fruit. A wavelet augmentation, however, prooved to be very slow and inefficient, moreover, not universal approach. ***Detrended and frequency data both give a significant improvement but its hard to decide which one is the best, so probably both should be investigated further.***"
   ]
  },
  {
   "cell_type": "code",
   "execution_count": null,
   "metadata": {},
   "outputs": [],
   "source": []
  }
 ],
 "metadata": {
  "colab": {
   "authorship_tag": "ABX9TyOSTH23dsPlsWtlX2UUwnTy",
   "collapsed_sections": [],
   "name": "[Exoplanet_Hunt].models_training",
   "provenance": []
  },
  "kernelspec": {
   "display_name": "Python 3.6",
   "language": "python",
   "name": "python3"
  },
  "language_info": {
   "codemirror_mode": {
    "name": "ipython",
    "version": 3
   },
   "file_extension": ".py",
   "mimetype": "text/x-python",
   "name": "python",
   "nbconvert_exporter": "python",
   "pygments_lexer": "ipython3",
   "version": "3.6.9"
  }
 },
 "nbformat": 4,
 "nbformat_minor": 1
}
